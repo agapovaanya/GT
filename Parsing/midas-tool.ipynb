{
 "cells": [
  {
   "cell_type": "code",
   "execution_count": null,
   "metadata": {},
   "outputs": [],
   "source": [
    "http://midas-tool.ru"
   ]
  },
  {
   "cell_type": "code",
   "execution_count": null,
   "metadata": {},
   "outputs": [],
   "source": [
    "import requests\n",
    "import re\n",
    "import urllib \n",
    "from bs4 import BeautifulSoup\n",
    "import string\n",
    "import pandas as pd\n",
    "import numpy as np\n",
    "import datetime\n",
    "import _datetime"
   ]
  },
  {
   "cell_type": "code",
   "execution_count": null,
   "metadata": {},
   "outputs": [],
   "source": [
    "current_datetime1 = datetime.datetime.now()\n",
    "temporary_links = []\n",
    "primary_links = []\n",
    "product_links = []\n",
    "titles = []\n",
    "prices = []\n",
    "marks=[]\n",
    "articles=[]\n",
    "valutes=[]\n",
    "categories=[]\n",
    "k=0\n",
    "m=0\n",
    "url = 'http://midas-tool.ru/catalog/'\n",
    "r = requests.get(url)\n",
    "html_content = r.text\n",
    "soup = BeautifulSoup(html_content,'html.parser')"
   ]
  },
  {
   "cell_type": "code",
   "execution_count": null,
   "metadata": {},
   "outputs": [],
   "source": [
    "temporary_links=[]\n",
    "for link in soup.findAll('a', attrs={'href': re.compile(\"/catalog/\")},class_='uline'):\n",
    "    temporary_links.append(link.get('href'))"
   ]
  },
  {
   "cell_type": "code",
   "execution_count": null,
   "metadata": {},
   "outputs": [],
   "source": [
    "temporary_links_1=[]"
   ]
  },
  {
   "cell_type": "code",
   "execution_count": null,
   "metadata": {},
   "outputs": [],
   "source": [
    "for r in range(len(temporary_links)):\n",
    "    print(r)\n",
    "    url = 'http://midas-tool.ru'+temporary_links[r]\n",
    "    r = requests.get(url)\n",
    "    html_content = r.text\n",
    "    soup = BeautifulSoup(html_content,'html.parser')\n",
    "    for link in soup.findAll('a', attrs={'href': re.compile(\"/catalog/\")},class_='uline'):\n",
    "        temporary_links_1.append(link.get('href'))"
   ]
  },
  {
   "cell_type": "code",
   "execution_count": null,
   "metadata": {},
   "outputs": [],
   "source": [
    "podcategory=[]"
   ]
  },
  {
   "cell_type": "code",
   "execution_count": null,
   "metadata": {},
   "outputs": [],
   "source": [
    "len(temporary_links_1)"
   ]
  },
  {
   "cell_type": "code",
   "execution_count": null,
   "metadata": {},
   "outputs": [],
   "source": [
    "for p in range(len(temporary_links_1)):\n",
    "    print(p)\n",
    "    url = 'http://midas-tool.ru'+temporary_links_1[p]\n",
    "    r = requests.get(url)\n",
    "    html_content = r.text\n",
    "    soup = BeautifulSoup(html_content,'html.parser')\n",
    "    pod=soup.findAll('span',class_='item-img')\n",
    "    for i in range(len(pod)):\n",
    "        if pod[i].find('a')!=None:\n",
    "            podcategory.append(pod[i].find('a').get('href'))"
   ]
  },
  {
   "cell_type": "code",
   "execution_count": null,
   "metadata": {},
   "outputs": [],
   "source": [
    "pod_podcategory=[]"
   ]
  },
  {
   "cell_type": "code",
   "execution_count": null,
   "metadata": {},
   "outputs": [],
   "source": [
    "len(podcategory)"
   ]
  },
  {
   "cell_type": "code",
   "execution_count": null,
   "metadata": {},
   "outputs": [],
   "source": [
    "for p in range(len(podcategory)):\n",
    "    print(p)\n",
    "    url = 'http://midas-tool.ru'+podcategory[p]\n",
    "    r = requests.get(url)\n",
    "    html_content = r.text\n",
    "    soup = BeautifulSoup(html_content,'html.parser')\n",
    "    pod=soup.findAll('span',class_='item-img')\n",
    "    for i in range(len(pod)):\n",
    "        if pod[i].find('a')!=None:\n",
    "            pod_podcategory.append(pod[i].find('a').get('href'))"
   ]
  },
  {
   "cell_type": "code",
   "execution_count": null,
   "metadata": {},
   "outputs": [],
   "source": [
    "all_category=podcategory+temporary_links_1+pod_podcategory"
   ]
  },
  {
   "cell_type": "code",
   "execution_count": null,
   "metadata": {},
   "outputs": [],
   "source": [
    "len(np.unique(pod_podcategory))"
   ]
  },
  {
   "cell_type": "code",
   "execution_count": null,
   "metadata": {},
   "outputs": [],
   "source": [
    "re_pod_podcategory=[]"
   ]
  },
  {
   "cell_type": "code",
   "execution_count": null,
   "metadata": {},
   "outputs": [],
   "source": [
    "for p in range(len(pod_podcategory)):\n",
    "    print(p)\n",
    "    url = 'http://midas-tool.ru'+pod_podcategory[p]\n",
    "    r = requests.get(url)\n",
    "    html_content = r.text\n",
    "    soup = BeautifulSoup(html_content,'html.parser')\n",
    "    pod=soup.findAll('span',class_='item-img')\n",
    "    for i in range(len(pod)):\n",
    "        if pod[i].find('a')!=None:\n",
    "            re_pod_podcategory.append(pod[i].find('a').get('href'))"
   ]
  },
  {
   "cell_type": "code",
   "execution_count": null,
   "metadata": {},
   "outputs": [],
   "source": [
    "tr_re_pod_podcategory=[]"
   ]
  },
  {
   "cell_type": "code",
   "execution_count": null,
   "metadata": {},
   "outputs": [],
   "source": [
    "for p in range(len(re_pod_podcategory)):\n",
    "    print(p)\n",
    "    url = 'http://midas-tool.ru'+re_pod_podcategory[p]\n",
    "    r = requests.get(url)\n",
    "    html_content = r.text\n",
    "    soup = BeautifulSoup(html_content,'html.parser')\n",
    "    pod=soup.findAll('span',class_='item-img')\n",
    "    for i in range(len(pod)):\n",
    "        if pod[i].find('a')!=None:\n",
    "            tr_re_pod_podcategory.append(pod[i].find('a').get('href'))"
   ]
  },
  {
   "cell_type": "code",
   "execution_count": null,
   "metadata": {},
   "outputs": [],
   "source": [
    "yu_tr_re_pod_podcategory=[]"
   ]
  },
  {
   "cell_type": "code",
   "execution_count": null,
   "metadata": {},
   "outputs": [],
   "source": [
    "for p in range(len(tr_re_pod_podcategory)):\n",
    "    print(p)\n",
    "    url = 'http://midas-tool.ru'+tr_re_pod_podcategory[p]\n",
    "    r = requests.get(url)\n",
    "    html_content = r.text\n",
    "    soup = BeautifulSoup(html_content,'html.parser')\n",
    "    pod=soup.findAll('span',class_='item-img')\n",
    "    for i in range(len(pod)):\n",
    "        if pod[i].find('a')!=None:\n",
    "            yu_tr_re_pod_podcategory.append(pod[i].find('a').get('href'))"
   ]
  },
  {
   "cell_type": "code",
   "execution_count": null,
   "metadata": {},
   "outputs": [],
   "source": [
    "all_category=podcategory+temporary_links_1+pod_podcategory+yu_tr_re_pod_podcategory+tr_re_pod_podcategory+re_pod_podcategory"
   ]
  },
  {
   "cell_type": "code",
   "execution_count": null,
   "metadata": {},
   "outputs": [],
   "source": [
    "linki=[]"
   ]
  },
  {
   "cell_type": "code",
   "execution_count": null,
   "metadata": {},
   "outputs": [],
   "source": []
  },
  {
   "cell_type": "code",
   "execution_count": null,
   "metadata": {},
   "outputs": [],
   "source": [
    "for j in range(len(all_category)):\n",
    "    print(j)\n",
    "    url=\"http://midas-tool.ru\"+all_category[j]+\"?curPos=4200\"\n",
    "    r = requests.get(url)\n",
    "    html_content = r.text\n",
    "    soup = BeautifulSoup(html_content,'html.parser')\n",
    "    if soup.findAll('ul',class_='pagination')!=[]:\n",
    "        a=str(soup.findAll('ul',class_='pagination')[0]).split()[-1]\n",
    "        begin=a.find('=\"')+2\n",
    "        end=a.find('\">')\n",
    "        stro=a.find('</')\n",
    "        last_page=int(a[end+2:stro])\n",
    "        for i in range(last_page):\n",
    "            if i!=0:\n",
    "                url0=\"http://midas-tool.ru\"+all_category[j]+\"?curPos=\"+str(21*i)\n",
    "            else:\n",
    "                url0=\"http://midas-tool.ru\"+all_category[j]\n",
    "            \n",
    "            r = requests.get(url0)\n",
    "            html_content = r.text\n",
    "            soup = BeautifulSoup(html_content,'html.parser')\n",
    "            \n",
    "            io=soup.findAll('div', class_=\"item\")\n",
    "            for i in range(len(io)):\n",
    "                linki.append(io[i].find('a').get('href'))\n",
    "    \n",
    "    else:\n",
    "        io=soup.findAll('div', class_=\"item\")\n",
    "        for i in range(len(io)):\n",
    "            linki.append(io[i].find('a').get('href'))"
   ]
  },
  {
   "cell_type": "code",
   "execution_count": null,
   "metadata": {},
   "outputs": [],
   "source": [
    "len(linki)"
   ]
  },
  {
   "cell_type": "code",
   "execution_count": null,
   "metadata": {},
   "outputs": [],
   "source": [
    "brand_all=[]\n",
    "art_all=[]\n",
    "price_all=[]\n",
    "name_all=[]\n",
    "linki_all=[]"
   ]
  },
  {
   "cell_type": "code",
   "execution_count": null,
   "metadata": {},
   "outputs": [],
   "source": [
    "for l in range(4930,len(linki)):\n",
    "    print(l)\n",
    "    url=\"http://midas-tool.ru\"+linki[l]\n",
    "    try:\n",
    "        r = requests.get(url)\n",
    "    except:\n",
    "        print('uauau')\n",
    "    html_content = r.text\n",
    "    soup = BeautifulSoup(html_content,'html.parser')\n",
    "    brand=''\n",
    "    art=''\n",
    "    price=''\n",
    "    name=''\n",
    "\n",
    "    if soup.findAll('h1')!=[]:\n",
    "        name=soup.findAll('h1')[0].text\n",
    "    if soup.findAll('td')!=[]:\n",
    "        all_inf=soup.findAll('td')\n",
    "\n",
    "        for i in range(len(all_inf)):\n",
    "            if all_inf[i].text=='Производитель':\n",
    "                brand=all_inf[i+1].text\n",
    "            if all_inf[i].text=='Артикул':\n",
    "                art=all_inf[i+1].text\n",
    "\n",
    "    if soup.findAll('meta',itemprop='price')!=[]:\n",
    "        price=soup.findAll('meta',itemprop='price')[0].get('content')\n",
    "    \n",
    "    brand_all.append(brand)\n",
    "    art_all.append(art)\n",
    "    price_all.append(price)\n",
    "    name_all.append(name)\n",
    "    linki_all.append(url)"
   ]
  },
  {
   "cell_type": "code",
   "execution_count": null,
   "metadata": {},
   "outputs": [],
   "source": [
    "table = pd.DataFrame(list(zip(brand_all, art_all,price_all, name_all,linki_all))) \n",
    "\n",
    "table.to_excel('midas-tool300721.xlsx')"
   ]
  },
  {
   "cell_type": "code",
   "execution_count": null,
   "metadata": {},
   "outputs": [],
   "source": []
  }
 ],
 "metadata": {
  "kernelspec": {
   "display_name": "Python 3",
   "language": "python",
   "name": "python3"
  },
  "language_info": {
   "codemirror_mode": {
    "name": "ipython",
    "version": 3
   },
   "file_extension": ".py",
   "mimetype": "text/x-python",
   "name": "python",
   "nbconvert_exporter": "python",
   "pygments_lexer": "ipython3",
   "version": "3.7.7"
  }
 },
 "nbformat": 4,
 "nbformat_minor": 4
}

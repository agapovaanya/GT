{
 "cells": [
  {
   "cell_type": "code",
   "execution_count": null,
   "metadata": {},
   "outputs": [],
   "source": [
    "import requests\n",
    "import re\n",
    "import urllib \n",
    "from bs4 import BeautifulSoup\n",
    "import string\n",
    "import pandas as pd\n",
    "import numpy as np\n",
    "import datetime\n",
    "import _datetime"
   ]
  },
  {
   "cell_type": "code",
   "execution_count": null,
   "metadata": {},
   "outputs": [],
   "source": [
    "current_datetime1 = datetime.datetime.now()\n",
    "temporary_links = []\n",
    "primary_links = []\n",
    "product_links = []\n",
    "product_links1 = []\n",
    "\n",
    "url='https://www.car-tool.ru/catalog'\n",
    "r = requests.get(url)\n",
    "html_content = r.text\n",
    "soup = BeautifulSoup(html_content,'html.parser')\n",
    "k=0\n",
    "mm=0\n",
    "for link in soup.findAll('a', attrs={'href': re.compile(\"/catalog/\")},class_='menu_left'):\n",
    "    temporary_links.append(link.get('href'))\n",
    "print (len(temporary_links))\n",
    "for temporary_link in np.unique(temporary_links):\n",
    "    url='https://www.car-tool.ru'+ temporary_link\n",
    "    r = requests.get(url)\n",
    "    html_content = r.text\n",
    "    soup = BeautifulSoup(html_content,'html.parser')\n",
    "    if soup.findAll('div', class_=\"modern-page-navigation\")==[]:\n",
    "        last_pages=1\n",
    "    else:\n",
    "        a=str(soup.findAll('div', class_=\"modern-page-navigation\")[0]).split()[-9]\n",
    "        last_pages=a[a.find('>')+1:a.find('<')]\n",
    "    for pages in range(1,int(last_pages)+1):\n",
    "        url='https://car-tool.ru'+temporary_link+'?PAGEN_2='+str(pages)\n",
    "        r = requests.get(url)\n",
    "        html_content = r.text\n",
    "        soup = BeautifulSoup(html_content,'html.parser')\n",
    "        for link in soup.findAll('a', attrs={'href': re.compile(\"/catalog/\")},class_='img-main'):\n",
    "            product_links1.append(link.get('href'))\n",
    "    k=k+1        \n",
    "    print(k,url)\n",
    "print (len(product_links1))\n"
   ]
  },
  {
   "cell_type": "code",
   "execution_count": null,
   "metadata": {},
   "outputs": [],
   "source": [
    "titles = []\n",
    "prices = []\n",
    "marks=[]\n",
    "articles=[]\n",
    "valutes=[]\n",
    "categories=[]"
   ]
  },
  {
   "cell_type": "code",
   "execution_count": null,
   "metadata": {},
   "outputs": [],
   "source": [
    "for product_link in product_links1:\n",
    "    \n",
    "    \n",
    "    url = 'https://www.car-tool.ru' + product_link\n",
    "    try:\n",
    "        r = requests.get(url)\n",
    "    except requests.exceptions.ConnectionError:\n",
    "        r.status_code = \"Connection refused\"\n",
    "        print(\"pobeda\")\n",
    "    html_content = r.text\n",
    "    soup = BeautifulSoup(html_content,'html.parser')\n",
    "\n",
    "    title = soup.findAll('h1', attrs={'id': 'pagetitle'})[0].text\n",
    "    titles.append(title)\n",
    "\n",
    "\n",
    "    article = soup.findAll('span', class_='ffen')[0].text\n",
    "    articles.append(article)\n",
    "\n",
    "    price=soup.findAll('span',class_=\"right\")[0].text\n",
    "    prices.append(price)\n",
    "\n",
    "    if soup.findAll('a', attrs={'title': not None, 'href': not None},class_=None)==[]:\n",
    "        category=\"Главная\"\n",
    "    else:\n",
    "        category=soup.findAll('a', attrs={'title': not None, 'href': not None},class_=None)[-1].text\n",
    "    categories.append(category)\n",
    "    mm=mm+1        \n",
    "    print(mm)\n",
    "\n",
    "product_links =[ 'https://www.car-tool.ru%s'%x for x in product_links1 ]\n",
    "\n",
    "table = pd.DataFrame(list(zip(titles, articles,prices, categories,product_links)), columns =['Наименование товара', 'Артикул','Цена, руб.','Категория','Ссылка на товар']) \n",
    "\n",
    "table.to_excel('car-tools 30.04.xlsx')\n",
    "\n",
    "current_datetime2 = datetime.datetime.now()\n",
    "print (current_datetime2 - current_datetime1)"
   ]
  }
 ],
 "metadata": {
  "kernelspec": {
   "display_name": "Python 3",
   "language": "python",
   "name": "python3"
  },
  "language_info": {
   "codemirror_mode": {
    "name": "ipython",
    "version": 3
   },
   "file_extension": ".py",
   "mimetype": "text/x-python",
   "name": "python",
   "nbconvert_exporter": "python",
   "pygments_lexer": "ipython3",
   "version": "3.7.7"
  }
 },
 "nbformat": 4,
 "nbformat_minor": 2
}

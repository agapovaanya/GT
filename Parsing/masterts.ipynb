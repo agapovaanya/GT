{
 "cells": [
  {
   "cell_type": "code",
   "execution_count": null,
   "metadata": {},
   "outputs": [],
   "source": [
    "import requests\n",
    "import re\n",
    "import urllib \n",
    "from bs4 import BeautifulSoup\n",
    "import string\n",
    "import pandas as pd\n",
    "import numpy as np\n",
    "import datetime\n",
    "import _datetime\n",
    "import time"
   ]
  },
  {
   "cell_type": "code",
   "execution_count": null,
   "metadata": {},
   "outputs": [],
   "source": [
    "\n",
    "url='https://spb.masterts.ru/sitemaps/products.xml'\n",
    "r = requests.get(url)\n",
    "\n",
    "html_content = r.text\n",
    "soup = BeautifulSoup(html_content,'html.parser')"
   ]
  },
  {
   "cell_type": "code",
   "execution_count": null,
   "metadata": {},
   "outputs": [],
   "source": [
    "linki=[]\n",
    "for i in range(len(soup.findAll('loc'))):\n",
    "    print(i)\n",
    "    a=str(soup.findAll('loc')[i])\n",
    "    if a.find('products')!=-1:\n",
    "        linki.append(a[5:-6])"
   ]
  },
  {
   "cell_type": "code",
   "execution_count": null,
   "metadata": {},
   "outputs": [],
   "source": [
    "name_final=[]\n",
    "article_final=[]\n",
    "brand_final=[]\n",
    "price_final=[]\n",
    "linki_final=[]"
   ]
  },
  {
   "cell_type": "code",
   "execution_count": null,
   "metadata": {},
   "outputs": [],
   "source": [
    "\n",
    "    \n",
    "for u in range(len(linki)):\n",
    "    print(u)\n",
    "    \n",
    "    \n",
    "    url=linki[u]\n",
    "    try:\n",
    "        r = requests.get(url)\n",
    "    except requests.exceptions.ConnectionError:\n",
    "        r.status_code = \"Connection refused\"\n",
    "        print(\"pobeda\")\n",
    "    html_content = r.text\n",
    "    soup = BeautifulSoup(html_content,'html.parser')\n",
    "    article=''\n",
    "    name=''\n",
    "    price=''\n",
    "    brand=''\n",
    "\n",
    "\n",
    "    if soup.findAll('div',class_=\"product-information__code-value\")!=[]:\n",
    "        article=soup.findAll('div',class_=\"product-information__code-value\")[0].text\n",
    "    if soup.findAll('h1')!=[]:\n",
    "        name=soup.findAll('h1')[0].text\n",
    "    if soup.findAll('span',itemprop=\"price\")!=[]:     \n",
    "        price=soup.findAll('span',itemprop=\"price\")[0].text\n",
    "    if soup.findAll('meta',itemprop=\"brand\")!=[]:\n",
    "        brand=soup.findAll('meta',itemprop=\"brand\")[0].get('content')\n",
    "    \n",
    "    name_final.append(name)\n",
    "    article_final.append(article)\n",
    "    brand_final.append(brand)\n",
    "    price_final.append(price)\n",
    "    linki_final.append(url)\n",
    "\n"
   ]
  },
  {
   "cell_type": "code",
   "execution_count": null,
   "metadata": {},
   "outputs": [],
   "source": [
    "table = pd.DataFrame(list(zip(name_final,article_final,brand_final,price_final,linki_final))) \n",
    "\n",
    "table.to_excel('masterts_300721.xlsx')"
   ]
  },
  {
   "cell_type": "code",
   "execution_count": null,
   "metadata": {},
   "outputs": [],
   "source": []
  }
 ],
 "metadata": {
  "kernelspec": {
   "display_name": "Python 3",
   "language": "python",
   "name": "python3"
  },
  "language_info": {
   "codemirror_mode": {
    "name": "ipython",
    "version": 3
   },
   "file_extension": ".py",
   "mimetype": "text/x-python",
   "name": "python",
   "nbconvert_exporter": "python",
   "pygments_lexer": "ipython3",
   "version": "3.7.7"
  }
 },
 "nbformat": 4,
 "nbformat_minor": 4
}

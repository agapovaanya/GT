{
 "cells": [
  {
   "cell_type": "code",
   "execution_count": null,
   "metadata": {},
   "outputs": [],
   "source": [
    "import requests\n",
    "import re\n",
    "import urllib \n",
    "from bs4 import BeautifulSoup\n",
    "import string\n",
    "import pandas as pd\n",
    "import numpy as np"
   ]
  },
  {
   "cell_type": "code",
   "execution_count": null,
   "metadata": {},
   "outputs": [],
   "source": [
    "temporary_links = []\n",
    "primary_links = []\n",
    "product_links = []\n",
    "titles = []\n",
    "brands=[]\n",
    "prices = []\n",
    "articles=[]\n",
    "categories=[]\n",
    "urles=[]\n",
    "k=0\n",
    "url = 'https://si-tools.ru/catalog/'\n",
    "r = requests.get(url)\n",
    "html_content = r.text\n",
    "soup = BeautifulSoup(html_content,'html.parser')\n",
    "mm=[]\n",
    "for link in soup.findAll('a', class_=\"si-category__subcategory si__border-item si--hover-effect\"):\n",
    "        mm.append(link.get('href'))"
   ]
  },
  {
   "cell_type": "code",
   "execution_count": null,
   "metadata": {},
   "outputs": [],
   "source": [
    "nn=[]"
   ]
  },
  {
   "cell_type": "code",
   "execution_count": null,
   "metadata": {},
   "outputs": [],
   "source": [
    "for linki in mm:\n",
    "    url = 'https://si-tools.ru'+linki\n",
    "    r = requests.get(url)\n",
    "    html_content = r.text\n",
    "    soup = BeautifulSoup(html_content,'html.parser')\n",
    "    if soup.findAll('a', class_=\"si-category__subcategory si__border-item si--hover-effect\")!=[]:\n",
    "        for link in soup.findAll('a', class_=\"si-category__subcategory si__border-item si--hover-effect\"):\n",
    "            mm.append(link.get('href'))\n",
    "    else:\n",
    "        nn.append(linki)\n",
    "    print(linki)"
   ]
  },
  {
   "cell_type": "code",
   "execution_count": null,
   "metadata": {},
   "outputs": [],
   "source": [
    "if soup.findAll('a', class_=\"si-category__subcategory si__border-item si--hover-effect\")!=[]:\n",
    "    for link in soup.findAll('a', class_=\"si-category__subcategory si__border-item si--hover-effect\"):\n",
    "        mm.append(link.get('href'))"
   ]
  },
  {
   "cell_type": "code",
   "execution_count": null,
   "metadata": {},
   "outputs": [],
   "source": [
    "product_links=[]"
   ]
  },
  {
   "cell_type": "code",
   "execution_count": null,
   "metadata": {},
   "outputs": [],
   "source": [
    "len(nn)\n",
    "k=0"
   ]
  },
  {
   "cell_type": "code",
   "execution_count": null,
   "metadata": {},
   "outputs": [],
   "source": [
    "for categ in nn:\n",
    "    url = 'https://si-tools.ru'+categ\n",
    "    try:\n",
    "        r = requests.get(url)\n",
    "    except requests.exceptions.ConnectionError:\n",
    "        r.status_code = \"Connection refused\"\n",
    "    html_content = r.text\n",
    "    soup = BeautifulSoup(html_content,'html.parser')\n",
    "    count=str(soup).find('NavPageCount')\n",
    "    nomer=str(soup).find('NavPageNomer')\n",
    "    oio=int(str(soup)[count+15:nomer-3])\n",
    "    for m in range(1,oio+1):\n",
    "        url = 'https://si-tools.ru'+ categ+'?PAGEN_2='+str(m)\n",
    "        r = requests.get(url)\n",
    "        html_content = r.text\n",
    "        soup = BeautifulSoup(html_content,'html.parser')\n",
    "        for link in soup.findAll('a', class_=\"si-product-card__title\"):\n",
    "            product_links.append(link.get('href'))\n",
    "        print(k,m)\n",
    "    k=k+1\n",
    "    print(k)"
   ]
  },
  {
   "cell_type": "code",
   "execution_count": null,
   "metadata": {},
   "outputs": [],
   "source": [
    "product_links_unique=np.unique(product_links)"
   ]
  },
  {
   "cell_type": "code",
   "execution_count": null,
   "metadata": {},
   "outputs": [],
   "source": [
    "titles = []\n",
    "brands=[]\n",
    "prices = []\n",
    "articles=[]\n",
    "categories=[]\n",
    "urles=[]"
   ]
  },
  {
   "cell_type": "code",
   "execution_count": null,
   "metadata": {},
   "outputs": [],
   "source": [
    "lop=0\n",
    "for link in product_links_unique:\n",
    "    url = 'https://si-tools.ru'+link\n",
    "    try:\n",
    "        r = requests.get(url)\n",
    "    except requests.exceptions.ConnectionError:\n",
    "        r.status_code = \"Connection refused\"\n",
    "    html_content = r.text\n",
    "    soup = BeautifulSoup(html_content,'html.parser')\n",
    "    \n",
    "    title=soup.findAll('span', class_=\"si-page__nh-item-text\")[0].text\n",
    "    titles.append(title)\n",
    "    \n",
    "    article=str(soup.findAll('p', class_=\"product__property-item\")[0])[49:-11]\n",
    "    articles.append(article)\n",
    "    \n",
    "    if str(soup.findAll('p', class_=\"product__property-item\")).find('Бренд')==-1:\n",
    "        brand='Безымянный'\n",
    "    else:\n",
    "        io=str(soup.findAll('p', class_=\"product__property-item\")).find('Бренд')\n",
    "        tu=str(soup.findAll('p', class_=\"product__property-item\"))[io+13:].find('<')\n",
    "        \n",
    "        brand=str(soup.findAll('p', class_=\"product__property-item\"))[io+13:io+13+tu]\n",
    "    \n",
    "    brands.append(brand)\n",
    "    \n",
    "    price=soup.findAll('p', class_=\"product__price-cost\")[0].text\n",
    "    prices.append(price)\n",
    "    \n",
    "    if soup.findAll('a', class_=\"si-page__nh-item-text\")==[]:\n",
    "        category=''\n",
    "    else:\n",
    "        category=soup.findAll('a', class_=\"si-page__nh-item-text\")[-1].text[1:-1]\n",
    "    categories.append(category)\n",
    "    \n",
    "    urles.append(url)\n",
    "    lop=lop+1\n",
    "    print(lop)\n",
    "    \n",
    "table = pd.DataFrame(list(zip(titles, articles, brands, prices, categories,urles)), columns =['Наименование товара','Артикул','Бренд','Цена','Категория','Ссылка на товар']) \n",
    "\n",
    "table.to_excel('si_tools 06.05.xlsx')"
   ]
  }
 ],
 "metadata": {
  "kernelspec": {
   "display_name": "Python 3",
   "language": "python",
   "name": "python3"
  },
  "language_info": {
   "codemirror_mode": {
    "name": "ipython",
    "version": 3
   },
   "file_extension": ".py",
   "mimetype": "text/x-python",
   "name": "python",
   "nbconvert_exporter": "python",
   "pygments_lexer": "ipython3",
   "version": "3.7.7"
  }
 },
 "nbformat": 4,
 "nbformat_minor": 2
}

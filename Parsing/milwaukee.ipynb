{
 "cells": [
  {
   "cell_type": "code",
   "execution_count": null,
   "metadata": {},
   "outputs": [],
   "source": [
    "import requests\n",
    "import re\n",
    "import urllib \n",
    "from bs4 import BeautifulSoup\n",
    "import string\n",
    "import pandas as pd\n",
    "import numpy as np\n",
    "import xlrd\n",
    "from urllib.request import urlretrieve"
   ]
  },
  {
   "cell_type": "code",
   "execution_count": null,
   "metadata": {},
   "outputs": [],
   "source": [
    "#файл с одним столбцом, в котором находятся ссылки продуктов\n",
    "\n",
    "rb = xlrd.open_workbook('/Users/anna/Downloads/milwaukee.xlsx')\n",
    "sheet = rb.sheet_by_index(0)\n",
    "a=[]\n",
    "for rownum in range(sheet.nrows):\n",
    "    row = sheet.row_values(rownum)\n",
    "    for c_el in row:\n",
    "        a.append(c_el)"
   ]
  },
  {
   "cell_type": "code",
   "execution_count": null,
   "metadata": {},
   "outputs": [],
   "source": [
    "kompl=[]\n",
    "kompl_zn=[]\n",
    "names=[]\n",
    "opisan=[]\n",
    "artic=[]\n",
    "not_base=[]\n",
    "links=[]\n",
    "\n",
    "for i in range(len(a)):\n",
    "    print(i)\n",
    "    url='https://ru.milwaukeetool.eu/sitefiles/handlers/searchRedirect.ashx/?searchTerm='+a[i]+'&culture=ru-RU'\n",
    "    r = requests.get(url)\n",
    "    html_content = r.text\n",
    "    soup = BeautifulSoup(html_content,'html.parser')\n",
    "    komplekt=soup.findAll('td')\n",
    "    \n",
    "    if soup.findAll('div', class_=\"product__description-content js-product-content\")!=[]:\n",
    "        \n",
    "        opisanie=str(soup.findAll('div', class_=\"product__description-content js-product-content\")[0].text.split('\\n')).replace(\"'\",\"\").replace(\"[, \",\"\").replace(\", ]\",\"\")\n",
    "\n",
    "        name=str(soup.findAll('h1')[0].text).replace('\\r\\n                ','').replace(' \\r\\n              ','')\n",
    "\n",
    "        link=str(soup.findAll('link',attrs={'href': re.compile(\"https://ru.milwaukeetool.eu/\")})[0])[12:str(soup.findAll('link',attrs={'href': re.compile(\"https://ru.milwaukeetool.eu/\")})[0])[12:].find(' ')+11]\n",
    "\n",
    "        a1=[]\n",
    "        a2=[]\n",
    "        for j in range(len(komplekt)):\n",
    "            a1.append(str(komplekt[j]['data-th'])+': '+str(komplekt[j].text))\n",
    "            \n",
    "\n",
    "        names.append(name)\n",
    "        opisan.append(opisanie)\n",
    "        artic.append(a[i])\n",
    "        links.append(link)\n",
    "        kompl.append(a1)\n",
    "        #kompl_zn.append(a2)\n",
    "            \n",
    "        image=soup.findAll('picture')\n",
    "\n",
    "        for l in range(len(image)):\n",
    "\n",
    "            aa=str(image[l])\n",
    "            bb=aa[str(image[l]).find('src=')+5:]\n",
    "            url_image=bb[:bb.find('.jpg')+4]\n",
    "            file_path='/Users/anna/Downloads/'+str(a[i])+'_'+str(l)+'.jpg'\n",
    "            urlretrieve(url_image, file_path)\n",
    "    else:\n",
    "        not_base.append(a[i])\n",
    "    \n",
    "table = pd.DataFrame(list(zip(artic,names,kompl, opisan,links)), columns =['Артикул','Наименование','Комплектация','Описание','Ссылка']) \n",
    "table.to_excel('output_milwaukee.xlsx')"
   ]
  },
  {
   "cell_type": "code",
   "execution_count": null,
   "metadata": {},
   "outputs": [],
   "source": [
    "table.to_excel('out1put_milwaukee.xlsx')"
   ]
  }
 ],
 "metadata": {
  "kernelspec": {
   "display_name": "Python 3",
   "language": "python",
   "name": "python3"
  },
  "language_info": {
   "codemirror_mode": {
    "name": "ipython",
    "version": 3
   },
   "file_extension": ".py",
   "mimetype": "text/x-python",
   "name": "python",
   "nbconvert_exporter": "python",
   "pygments_lexer": "ipython3",
   "version": "3.7.7"
  }
 },
 "nbformat": 4,
 "nbformat_minor": 4
}

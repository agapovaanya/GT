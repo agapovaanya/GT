{
 "cells": [
  {
   "cell_type": "code",
   "execution_count": null,
   "metadata": {},
   "outputs": [],
   "source": [
    "import requests\n",
    "import re\n",
    "import urllib \n",
    "from bs4 import BeautifulSoup\n",
    "import string\n",
    "import pandas as pd\n",
    "import numpy as np\n",
    "import datetime\n",
    "import _datetime\n",
    "url = 'https://www.piterinstrument.ru/sitemap.xml'\n",
    "r = requests.get(url)\n",
    "html_content = r.text\n",
    "soup = BeautifulSoup(html_content,'html.parser')\n",
    "\n",
    "\n",
    "linki=[]\n",
    "for i in range(len(soup.findAll('loc'))):\n",
    "    print(i)\n",
    "    a=str(soup.findAll('loc')[i])\n",
    "    if a.find('shop')!=-1:\n",
    "        linki.append(a[5:-6])"
   ]
  },
  {
   "cell_type": "code",
   "execution_count": null,
   "metadata": {},
   "outputs": [],
   "source": [
    "name_all=[]\n",
    "brand_all=[]\n",
    "price_all=[]\n",
    "article_all=[]"
   ]
  },
  {
   "cell_type": "code",
   "execution_count": null,
   "metadata": {},
   "outputs": [],
   "source": [
    "for y in range(11890,len(linki)):\n",
    "    print(y)\n",
    "    url = linki[y]\n",
    "    r = requests.get(url)\n",
    "    html_content = r.text\n",
    "    soup = BeautifulSoup(html_content,'html.parser')\n",
    "    article=''\n",
    "    name=''\n",
    "    brand=''\n",
    "    price=''\n",
    "    if soup.findAll('h1')!=[]:\n",
    "        name = soup.findAll('h1')[0].text\n",
    "\n",
    "    if soup.findAll('strong',itemprop='brand')!=[]:\n",
    "        brand = soup.findAll('strong',itemprop='brand')[0].text\n",
    "    if soup.findAll('meta',itemprop='price')!=[]:\n",
    "        price=soup.findAll('meta',itemprop='price')[0].get('content')\n",
    "    if soup.findAll('strong',itemprop='productID')!=[]:\n",
    "        article=soup.findAll('strong',itemprop='productID')[0].text\n",
    "       \n",
    "\n",
    "    name_all.append(name)\n",
    "    brand_all.append(brand)\n",
    "    price_all.append(price)\n",
    "    article_all.append(article)"
   ]
  },
  {
   "cell_type": "code",
   "execution_count": null,
   "metadata": {},
   "outputs": [],
   "source": [
    "table = pd.DataFrame(list(zip(name_all, brand_all,article_all,price_all,linki))) \n",
    "\n",
    "table.to_excel('piterinstrument250621.xlsx')"
   ]
  }
 ],
 "metadata": {
  "kernelspec": {
   "display_name": "Python 3",
   "language": "python",
   "name": "python3"
  },
  "language_info": {
   "codemirror_mode": {
    "name": "ipython",
    "version": 3
   },
   "file_extension": ".py",
   "mimetype": "text/x-python",
   "name": "python",
   "nbconvert_exporter": "python",
   "pygments_lexer": "ipython3",
   "version": "3.7.7"
  }
 },
 "nbformat": 4,
 "nbformat_minor": 4
}

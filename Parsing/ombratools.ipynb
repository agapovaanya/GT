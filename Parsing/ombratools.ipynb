{
 "cells": [
  {
   "cell_type": "code",
   "execution_count": 1,
   "metadata": {},
   "outputs": [],
   "source": [
    "import requests\n",
    "import re\n",
    "import urllib \n",
    "from bs4 import BeautifulSoup\n",
    "import string\n",
    "import pandas as pd\n",
    "import numpy as np"
   ]
  },
  {
   "cell_type": "code",
   "execution_count": 37,
   "metadata": {},
   "outputs": [],
   "source": [
    "brands=[]\n",
    "artics=[]\n",
    "categories=[]\n",
    "temporary_links = []\n",
    "primary_links = []\n",
    "product_links = []\n",
    "titles = []\n",
    "prices = []\n",
    "\n",
    "url = 'https://www.ombratools.ru/catalog/'\n",
    "r = requests.get(url)\n",
    "html_content = r.text\n",
    "soup = BeautifulSoup(html_content,'html.parser')\n",
    "for link in soup.findAll('a', attrs={'href': re.compile(\"/catalog/\")}):\n",
    "    temporary_links.append(link.get('href'))\n"
   ]
  },
  {
   "cell_type": "code",
   "execution_count": 38,
   "metadata": {},
   "outputs": [
    {
     "data": {
      "text/plain": [
       "['/catalog/',\n",
       " '/default/catalog/group/type/new/',\n",
       " '/default/catalog/group-release/',\n",
       " '/catalog/',\n",
       " '/default/catalog/group/type/new/',\n",
       " '/default/catalog/group/type/top/',\n",
       " '/catalog/10001/klyuchi-gaechniye/',\n",
       " '/catalog/20000000/naboriy-instrumenta/',\n",
       " '/catalog/20000002/golovki-tortseviye/',\n",
       " '/catalog/20000003/privodiy-vorotki-treschotki/',\n",
       " '/catalog/20000005/sharnirno-gubtseviyy-instrument/',\n",
       " '/catalog/20000006/instrument-dlya-rabotiy-s-vnutrennim-profilem/',\n",
       " '/catalog/20000007/instrument-spetsialnogo-naznacheniya/',\n",
       " '/catalog/20000008/pnevmaticheskiy-instrument/',\n",
       " '/catalog/20000009/proizvodstvennaya-mebel/',\n",
       " '/catalog/20000010/garajnoe-oborudovanie/',\n",
       " '/catalog/2000003977/vspomogatelniyy-instrument/']"
      ]
     },
     "execution_count": 38,
     "metadata": {},
     "output_type": "execute_result"
    }
   ],
   "source": [
    "temporary_links"
   ]
  },
  {
   "cell_type": "code",
   "execution_count": 39,
   "metadata": {},
   "outputs": [],
   "source": [
    "for link in np.unique(temporary_links):\n",
    "    if  len(re.split(r'(\\W+)', link)) >= 6 and any(map(str.isdigit, re.split(r'(\\W+)', link)[4])):\n",
    "        primary_links.append(link)"
   ]
  },
  {
   "cell_type": "code",
   "execution_count": 40,
   "metadata": {},
   "outputs": [],
   "source": [
    "\n",
    "        \n",
    "for primary_link in primary_links:\n",
    "    url = 'https://www.ombratools.ru' + primary_link\n",
    "    r = requests.get(url)\n",
    "    html_content = r.text\n",
    "    soup = BeautifulSoup(html_content,'html.parser')\n",
    "    temporary_links = []\n",
    "    for link in soup.findAll('a', attrs={'href': re.compile(\"/catalog/\")}):\n",
    "        temporary_links.append(link.get('href'))\n",
    "    for link in np.unique(temporary_links):\n",
    "        if link not in primary_links and len(re.split(r'(\\W+)', link)) >= 6 and any(map(str.isdigit, re.split(r'(\\W+)', link)[4])):\n",
    "            primary_links.append(link)\n",
    "    for link in soup.findAll('a', attrs={'href': re.compile(\"/product/\")}):\n",
    "        if link not in product_links:\n",
    "            product_links.append(link.get('href'))\n",
    "product_links = np.unique(product_links)"
   ]
  },
  {
   "cell_type": "code",
   "execution_count": 41,
   "metadata": {},
   "outputs": [
    {
     "data": {
      "text/plain": [
       "826"
      ]
     },
     "execution_count": 41,
     "metadata": {},
     "output_type": "execute_result"
    }
   ],
   "source": [
    "len(product_links)"
   ]
  },
  {
   "cell_type": "code",
   "execution_count": 42,
   "metadata": {},
   "outputs": [],
   "source": [
    "\n",
    "\n",
    "for product_link in product_links:\n",
    "    url = 'https://www.ombratools.ru' + product_link\n",
    "    try:\n",
    "        r = requests.get(url)\n",
    "    except requests.exceptions.ConnectionError:\n",
    "        r.status_code = \"Connection refused\"\n",
    "    \n",
    "    \n",
    "    html_content = r.text\n",
    "    soup = BeautifulSoup(html_content,'html.parser')\n",
    "    \n",
    "    title = soup.find_all('title')[0].text\n",
    "    titles.append(title)\n",
    "    \n",
    "    tags = soup.find_all('div')\n",
    "    for tag in tags:\n",
    "        if 'р.' in tag.get_text():\n",
    "            price = tag.get_text()\n",
    "    price = \"\".join(price.replace(\"р.\",\"\").split())\n",
    "    prices.append(price)\n",
    "    \n",
    "    numb=str(soup.find_all('h1')).find('артикул')\n",
    "    artic=str(soup.find_all('h1'))[numb+9:-6]\n",
    "    artics.append(artic)\n",
    "    brands.append('Ombratools')\n",
    "    n=soup.find_all('a')\n",
    "    for i in range(len(n)):\n",
    "        if n[i].text=='перейти к сравнению продуктов':\n",
    "            category=n[i-1].text\n",
    "    categories.append(category)\n",
    "\n",
    "\n",
    "    \n",
    "product_links =[ 'https://www.ombratools.ru%s'%x for x in product_links ]\n",
    "\n",
    "table = pd.DataFrame(list(zip(titles, brands,artics, prices,categories, product_links)), columns =['Наименование товара', 'Бренд','Артикул','Цена, р.', 'Категория','Ссылка']) \n",
    "\n",
    "table.to_excel('ombratools.xlsx')"
   ]
  },
  {
   "cell_type": "code",
   "execution_count": 43,
   "metadata": {},
   "outputs": [],
   "source": [
    "table.to_excel('ombratool2s.xlsx')"
   ]
  }
 ],
 "metadata": {
  "kernelspec": {
   "display_name": "Python 3",
   "language": "python",
   "name": "python3"
  },
  "language_info": {
   "codemirror_mode": {
    "name": "ipython",
    "version": 3
   },
   "file_extension": ".py",
   "mimetype": "text/x-python",
   "name": "python",
   "nbconvert_exporter": "python",
   "pygments_lexer": "ipython3",
   "version": "3.7.7"
  }
 },
 "nbformat": 4,
 "nbformat_minor": 4
}

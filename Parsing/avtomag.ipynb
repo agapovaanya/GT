{
 "cells": [
  {
   "cell_type": "code",
   "execution_count": null,
   "metadata": {},
   "outputs": [],
   "source": [
    "import requests\n",
    "import re\n",
    "import urllib \n",
    "from bs4 import BeautifulSoup\n",
    "import string\n",
    "import pandas as pd\n",
    "import numpy as np\n",
    "import datetime\n",
    "import _datetime"
   ]
  },
  {
   "cell_type": "code",
   "execution_count": null,
   "metadata": {},
   "outputs": [],
   "source": [
    "url = 'https://avtomag96.ru/sitemap.xml'\n",
    "r = requests.get(url)\n",
    "html_content = r.text\n",
    "soup = BeautifulSoup(html_content,'html.parser')\n",
    "\n"
   ]
  },
  {
   "cell_type": "code",
   "execution_count": null,
   "metadata": {},
   "outputs": [],
   "source": [
    "linki=[]\n",
    "for i in range(len(soup.findAll('loc'))):\n",
    "    print(i)\n",
    "    a=str(soup.findAll('loc')[i])\n",
    "    if a.find('catalog')!=-1:\n",
    "        linki.append(a[5:-6])"
   ]
  },
  {
   "cell_type": "code",
   "execution_count": null,
   "metadata": {},
   "outputs": [],
   "source": [
    "name_all=[]\n",
    "brand_all=[]\n",
    "price_all=[]\n",
    "article_all=[]\n",
    "linki_all=[[]]"
   ]
  },
  {
   "cell_type": "code",
   "execution_count": null,
   "metadata": {
    "scrolled": true
   },
   "outputs": [],
   "source": [
    "for y in range(len(linki)):\n",
    "    print(y)\n",
    "    url = linki[y]\n",
    "    r = requests.get(url)\n",
    "    html_content = r.text\n",
    "    soup = BeautifulSoup(html_content,'html.parser')\n",
    "    article=''\n",
    "    name=''\n",
    "    brand=''\n",
    "    price=''\n",
    "    if soup.findAll('h1')!=[]:\n",
    "        name = soup.findAll('h1')[0].text\n",
    "\n",
    "    if soup.findAll('p',class_='well-producer')!=[]:\n",
    "        brand = soup.findAll('p',class_='well-producer')[0].text\n",
    "    if soup.findAll('span',class_='well-price')!=[]:\n",
    "        price=soup.findAll('span',class_='well-price')[0].text.replace(' \\n               \\n\\t\\t\\t      ','').replace('\\u2009','').replace('\\xa0\\n','')\n",
    "    if soup.findAll('div',class_=\"col-md-6 col-lg-4\")!=[]:\n",
    "        e=str(soup.findAll('div',class_=\"col-md-6 col-lg-4\")[0]).split()\n",
    "        for i in range(len(e)):\n",
    "            if e[i].find('Артикул')!=-1:\n",
    "                article=e[i+1]\n",
    "\n",
    "    name_all.append(name)\n",
    "    brand_all.append(brand)\n",
    "    price_all.append(price)\n",
    "    article_all.append(article)\n",
    "    linki_all.append(url)"
   ]
  },
  {
   "cell_type": "code",
   "execution_count": null,
   "metadata": {},
   "outputs": [],
   "source": [
    "table = pd.DataFrame(list(zip(name_all, brand_all,article_all,price_all,linki_all)), columns =['Наименование товара', 'Бренд', 'Артикул','Цена','Ссылка на товар']) \n",
    "table.to_excel('avtomag250621.xlsx')"
   ]
  }
 ],
 "metadata": {
  "kernelspec": {
   "display_name": "Python 3",
   "language": "python",
   "name": "python3"
  },
  "language_info": {
   "codemirror_mode": {
    "name": "ipython",
    "version": 3
   },
   "file_extension": ".py",
   "mimetype": "text/x-python",
   "name": "python",
   "nbconvert_exporter": "python",
   "pygments_lexer": "ipython3",
   "version": "3.7.7"
  }
 },
 "nbformat": 4,
 "nbformat_minor": 4
}

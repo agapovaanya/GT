{
 "cells": [
  {
   "cell_type": "code",
   "execution_count": null,
   "metadata": {},
   "outputs": [],
   "source": [
    "import requests\n",
    "import re\n",
    "import urllib \n",
    "from bs4 import BeautifulSoup\n",
    "import string\n",
    "import pandas as pd\n",
    "import numpy as np\n",
    "import datetime\n",
    "import _datetime"
   ]
  },
  {
   "cell_type": "code",
   "execution_count": null,
   "metadata": {},
   "outputs": [],
   "source": [
    "current_datetime1 = datetime.datetime.now()\n",
    "temporary_links = []\n",
    "primary_links = []\n",
    "product_links = []\n",
    "titles = []\n",
    "prices = []\n",
    "marks=[]\n",
    "articles=[]\n",
    "valutes=[]\n",
    "categories=[]\n",
    "k=0\n",
    "m=0\n",
    "url = 'https://www.garagetools.ru'\n",
    "r = requests.get(url)\n",
    "html_content = r.text\n",
    "soup = BeautifulSoup(html_content,'html.parser')"
   ]
  },
  {
   "cell_type": "code",
   "execution_count": null,
   "metadata": {},
   "outputs": [],
   "source": [
    "krosh_fin=[]\n",
    "brand_fin=[]\n",
    "art_fin=[]\n",
    "name_fin=[]\n",
    "status_fin=[]\n",
    "price_fin=[]\n",
    "product_links_fin=[]"
   ]
  },
  {
   "cell_type": "code",
   "execution_count": null,
   "metadata": {},
   "outputs": [],
   "source": [
    "for link in soup.findAll('a',class_=\"category-tile-item\"):\n",
    "    primary_links.append(link.get('href'))"
   ]
  },
  {
   "cell_type": "code",
   "execution_count": null,
   "metadata": {},
   "outputs": [],
   "source": [
    "len(primary_links)"
   ]
  },
  {
   "cell_type": "code",
   "execution_count": null,
   "metadata": {},
   "outputs": [],
   "source": [
    "for u in range(len(primary_links)):\n",
    "    url3='https://www.garagetools.ru'+primary_links[u]\n",
    "    r1 = requests.get(url3)\n",
    "    html_content1 = r1.text\n",
    "    soup1 = BeautifulSoup(html_content1,'html.parser')\n",
    "    page=str(soup1.findAll('span',class_=\"last\")[0])\n",
    "    a=page.find('page=')\n",
    "    b=page.find('\">»</a>')\n",
    "    last_page=int(page[a+5:b])\n",
    "    for i in range(1,last_page+1):\n",
    "        print(u,i)\n",
    "        urli=url3+'?page='+str(i)\n",
    "        r = requests.get(urli)\n",
    "        html_content = r.text\n",
    "        soup = BeautifulSoup(html_content,'html.parser')\n",
    "        for link in soup.findAll('a',class_=\"product-tile-item\"):\n",
    "            product_links.append(link.get('href'))"
   ]
  },
  {
   "cell_type": "code",
   "execution_count": null,
   "metadata": {},
   "outputs": [],
   "source": [
    "len(product_links)"
   ]
  },
  {
   "cell_type": "code",
   "execution_count": null,
   "metadata": {},
   "outputs": [],
   "source": [
    "<div class=\"status status--secondary\">Под заказ</div>"
   ]
  },
  {
   "cell_type": "code",
   "execution_count": null,
   "metadata": {},
   "outputs": [],
   "source": [
    "url3='https://garagetools.ru/tovar/klyuch-rozhkovyy-odnostoronniy-38-mm'\n",
    "r1 = requests.get(url3)\n",
    "requests.get(url3)\n",
    "html_content1 = r1.text\n",
    "soup1 = BeautifulSoup(html_content1,'html.parser')\n",
    "krosh1=[]\n",
    "k=soup1.findAll('div',class_=\"status status--secondary\")\n",
    "k[0].text"
   ]
  },
  {
   "cell_type": "code",
   "execution_count": null,
   "metadata": {},
   "outputs": [],
   "source": [
    "k[0].text"
   ]
  },
  {
   "cell_type": "code",
   "execution_count": null,
   "metadata": {},
   "outputs": [],
   "source": [
    "for r in range(25087,len(product_links)):\n",
    "    print(r)\n",
    "    url3='https://www.garagetools.ru'+product_links[r]\n",
    "    try:\n",
    "        r1 = requests.get(url3)\n",
    "    except requests.exceptions.ConnectionError:\n",
    "        r1.status_code = \"Connection refused\"\n",
    "        print(\"pobeda\")\n",
    "    #r1 = requests.get(url3)\n",
    "    html_content1 = r1.text\n",
    "    soup1 = BeautifulSoup(html_content1,'html.parser')\n",
    "    krosh1=[]\n",
    "    krosh=soup1.findAll('span',itemprop=\"name\")\n",
    "    for l in range(len(krosh)):\n",
    "        krosh1.append(krosh[l].text)\n",
    "    krosh_fin.append(krosh1)\n",
    "\n",
    "\n",
    "    brand=soup1.findAll('div',itemprop=\"brand\")\n",
    "    if brand!=[]:\n",
    "        brand1=brand[0].text\n",
    "    else:\n",
    "        brand1=''\n",
    "    brand_fin.append(brand1)\n",
    "\n",
    "    art=soup1.findAll('div',itemprop=\"sku\")\n",
    "    if art!=[]:\n",
    "        art1=art[0].text\n",
    "    else:\n",
    "        art1=''\n",
    "    art_fin.append(art1)\n",
    "\n",
    "    name=soup1.findAll('h1',class_=\"title__name\")\n",
    "    if name!=[]:\n",
    "        name1=name[0].text\n",
    "    else:\n",
    "        name1=''\n",
    "    name_fin.append(name1)   \n",
    "    \n",
    "    status=soup1.findAll('div',class_=\"status status--primary\")\n",
    "    if status!=[]:\n",
    "        status1=status[0].text\n",
    "    else:\n",
    "        status1=''\n",
    "    status_fin.append(status1)\n",
    "    \n",
    "    price=soup1.findAll('div',class_=\"current-price\")\n",
    "    if price!=[]:\n",
    "        price1=price[0].text\n",
    "    else:\n",
    "        price1=''\n",
    "    price_fin.append(price1)\n",
    "    product_links_fin.append(url3)"
   ]
  },
  {
   "cell_type": "code",
   "execution_count": null,
   "metadata": {},
   "outputs": [],
   "source": [
    "table = pd.DataFrame(list(zip(krosh_fin, brand_fin,art_fin,name_fin, status_fin,price_fin,product_links_fin)), columns =['Крошки', 'Бренд', 'Артикул','Наименование','Статус','Цена','Ссылка на товар']) \n",
    "\n",
    "table.to_excel('gar3.xlsx')"
   ]
  },
  {
   "cell_type": "code",
   "execution_count": null,
   "metadata": {},
   "outputs": [],
   "source": [
    "product_links_fin=[]\n",
    "for i in range(len(product_links)):\n",
    "    product_links_fin.append('https://www.garagetools.ru'+product_links[i])"
   ]
  },
  {
   "cell_type": "code",
   "execution_count": null,
   "metadata": {},
   "outputs": [],
   "source": [
    "len(art_fin)"
   ]
  },
  {
   "cell_type": "code",
   "execution_count": null,
   "metadata": {},
   "outputs": [],
   "source": [
    "art_fin"
   ]
  },
  {
   "cell_type": "code",
   "execution_count": null,
   "metadata": {},
   "outputs": [],
   "source": [
    "import xlrd\n",
    "rb = xlrd.open_workbook('/Users/anna/Downloads/jj_par.xlsx')\n",
    "sheet = rb.sheet_by_index(0)\n",
    "a1=[]\n",
    "for rownum in range(sheet.nrows):\n",
    "    row = sheet.row_values(rownum)\n",
    "    for c_el in row:\n",
    "        a1.append(c_el)\n",
    "\n"
   ]
  },
  {
   "cell_type": "code",
   "execution_count": null,
   "metadata": {},
   "outputs": [],
   "source": [
    "kop=[]\n",
    "mae=[]"
   ]
  },
  {
   "cell_type": "code",
   "execution_count": null,
   "metadata": {},
   "outputs": [],
   "source": [
    "\n",
    "for r in range(11466,len(a1)):\n",
    "    names_dop=0\n",
    "    url3=a1[r]\n",
    "    print(r)\n",
    "    try:\n",
    "        r1 = requests.get(url3)\n",
    "    except requests.exceptions.ConnectionError:\n",
    "        r1.status_code = \"Connection refused\"\n",
    "        print(\"pobeda\")\n",
    "    \n",
    "    #r1 = requests.get(url3)\n",
    "    #requests.get(url3)\n",
    "    html_content1 = r1.text\n",
    "    soup1 = BeautifulSoup(html_content1,'html.parser')\n",
    "    krosh1=[]\n",
    "    k=soup1.findAll('div',class_=\"status status--secondary\")\n",
    "    if k==[]:\n",
    "        k=soup1.findAll('div',class_=\"status status--alert\")\n",
    "        if k==[]:\n",
    "            k=soup1.findAll('div',class_=\"status status--primary\")\n",
    "            names_dop=k[0].text\n",
    "            kop.append(names_dop)\n",
    "            mae.append(url3)\n",
    "        else:\n",
    "            names_dop=k[0].text\n",
    "            kop.append(names_dop)\n",
    "            mae.append(url3)\n",
    "    else:\n",
    "        names_dop=k[0].text\n",
    "        kop.append(names_dop)\n",
    "        mae.append(url3)\n"
   ]
  },
  {
   "cell_type": "code",
   "execution_count": null,
   "metadata": {},
   "outputs": [],
   "source": [
    "table = pd.DataFrame(list(zip(kop, mae)), columns =['Крошки', 'Бренд']) \n",
    "\n",
    "table.to_excel('gar3_13.xlsx')"
   ]
  }
 ],
 "metadata": {
  "kernelspec": {
   "display_name": "Python 3",
   "language": "python",
   "name": "python3"
  },
  "language_info": {
   "codemirror_mode": {
    "name": "ipython",
    "version": 3
   },
   "file_extension": ".py",
   "mimetype": "text/x-python",
   "name": "python",
   "nbconvert_exporter": "python",
   "pygments_lexer": "ipython3",
   "version": "3.7.7"
  }
 },
 "nbformat": 4,
 "nbformat_minor": 4
}

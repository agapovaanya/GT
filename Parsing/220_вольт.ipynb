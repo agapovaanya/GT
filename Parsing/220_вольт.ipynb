{
 "cells": [
  {
   "cell_type": "code",
   "execution_count": 96,
   "metadata": {},
   "outputs": [],
   "source": [
    "import urllib.request\n",
    "from bs4 import BeautifulSoup\n",
    "from selenium import webdriver\n",
    "import time\n",
    "import pandas as pd\n",
    "import datetime\n",
    "import _datetime\n",
    "\n",
    "path='/Users/anna/Downloads/tutu/chromedriver'\n",
    "current_datetime1 = datetime.datetime.now()\n",
    "urlpage = 'https://www.220-volt.ru/catalog/' \n",
    "driver = webdriver.Chrome(executable_path = path)\n",
    "driver.get(urlpage)\n",
    "driver.execute_script(\"window.scrollTo(0, document.body.scrollHeight);var lenOfPage=document.body.scrollHeight;return lenOfPage;\")\n",
    "time.sleep(0.01)\n"
   ]
  },
  {
   "cell_type": "code",
   "execution_count": 153,
   "metadata": {},
   "outputs": [
    {
     "name": "stdout",
     "output_type": "stream",
     "text": [
      "1:33:17.759793\n"
     ]
    }
   ],
   "source": [
    "\n",
    "links158=[]\n",
    "titles=[]\n",
    "prices=[]\n",
    "codes=[]\n",
    "parents=[]\n",
    "results = driver.find_elements_by_xpath(\"//a[contains(concat(' ', normalize-space(@class), ' '), 'icon')]\")\n",
    "links=[]\n",
    "for elem in results:\n",
    "    href = elem.get_attribute(\"href\")\n",
    "    links.append(href)\n",
    "\n",
    "links2=[]\n",
    "for i in links[2:len(links)]:\n",
    "    if i.find(urlpage[2:len(urlpage)])>0:\n",
    "        links2.append(i) \n",
    "        \n",
    "for kkkk in links2[1:2]:\n",
    "    urlpage1 = kkkk\n",
    "    driver1 = webdriver.Chrome(executable_path =  path)\n",
    "    driver1.get(urlpage1)\n",
    "\n",
    "    results1 = driver1.find_elements_by_xpath(\"//a[contains(concat(' ', normalize-space(@class), ' '), 'box-block divider radius-3 mvspace-5 pspace-10 text-center')]\")\n",
    "    links1=[]\n",
    "    for elem in results1:\n",
    "        href = elem.get_attribute(\"href\")\n",
    "        links1.append(href)\n",
    "\n",
    "\n",
    "    for lij in links1:    \n",
    "        urlpage2 = lij\n",
    "        driver2 = webdriver.Chrome(executable_path =path)\n",
    "        driver2.get(urlpage2)\n",
    "\n",
    "\n",
    "        page= driver2.find_elements_by_xpath(\"//a[contains(concat(' ', normalize-space(@class), ' '), 'js-load-more load-more-button')]\")\n",
    "        last_pages=[]\n",
    "        for elem in page:\n",
    "            href = elem.get_attribute(\"data-total\")\n",
    "            last_pages.append(href)\n",
    "\n",
    "        title12=driver2.find_elements_by_xpath(\"//select[contains(concat(' ', normalize-space(@class), ' '), 'listing-select')]\")\n",
    "\n",
    "        tovar=int(title12[0].text.split('\\n')[0])\n",
    "        \n",
    "        #kiuu=urlpage2\n",
    "        last_page=int(int(last_pages[0])/tovar)+1\n",
    "\n",
    "        for i in range(last_page):\n",
    "            if i==0:\n",
    "                pag=''\n",
    "            else:\n",
    "                pag='?p='+str(tovar*i)\n",
    "\n",
    "\n",
    "            urlpage3=urlpage2+pag\n",
    "            driver3 = webdriver.Chrome(executable_path =  path)\n",
    "            driver3.get(urlpage3)\n",
    "\n",
    "            title=driver3.find_elements_by_xpath(\"//div[contains(concat(' ', normalize-space(@class), ' '), 'new-item-list-name')]\")\n",
    "            link=driver3.find_elements_by_xpath(\"//a[contains(concat(' ', normalize-space(@class), ' '), 'ecommerce-tracked-product-link text-strong text-small')]\")\n",
    "            price=driver3.find_elements_by_xpath(\"//div[contains(concat(' ', normalize-space(@class), ' '), 'new-item-list-price-im')]\")\n",
    "            code=driver3.find_elements_by_xpath(\"//span[contains(concat(' ', normalize-space(@class), ' '), 'mvlspace-5 new-item-list-code-id box-inline v-top text-muted')]\")\n",
    "            parent=driver3.find_elements_by_xpath(\"//span[contains(concat(' ', normalize-space(@itemprop), ' '), 'name')]\")\n",
    "\n",
    "\n",
    "            for elem in link:\n",
    "                href = elem.get_attribute(\"href\")\n",
    "                links158.append(href)\n",
    "\n",
    "\n",
    "\n",
    "            for elem in title:\n",
    "                a = elem.text\n",
    "                titles.append(a)\n",
    "                \n",
    "\n",
    "            for elem in price:\n",
    "                a = elem.text\n",
    "                prices.append(a)\n",
    "\n",
    "            for elem in code:\n",
    "                a = elem.text\n",
    "                codes.append(a)\n",
    "\n",
    "            for elem in code:\n",
    "                a = parent[-1].text\n",
    "                parents.append(a)\n",
    "            \n",
    "                            \n",
    "            driver3.quit()\n",
    "                \n",
    "    driver2.quit()\n",
    "                \n",
    "driver1.quit()\n",
    "\n",
    "table = pd.DataFrame(list(zip(titles, prices, codes,parents,links158)),\n",
    "columns =['Наименование товара', 'Цена, руб.','Артикул','Родитель','Ссылка на товар']) \n",
    "\n",
    "table.to_excel('220v.xlsx')\n",
    "\n",
    "current_datetime2 = datetime.datetime.now()\n",
    "print (current_datetime2 - current_datetime1)"
   ]
  },
  {
   "cell_type": "code",
   "execution_count": 155,
   "metadata": {},
   "outputs": [
    {
     "data": {
      "text/plain": [
       "datetime.datetime(2020, 6, 10, 16, 26, 53, 110916)"
      ]
     },
     "execution_count": 155,
     "metadata": {},
     "output_type": "execute_result"
    }
   ],
   "source": [
    "current_datetime2"
   ]
  }
 ],
 "metadata": {
  "kernelspec": {
   "display_name": "Python 3",
   "language": "python",
   "name": "python3"
  },
  "language_info": {
   "codemirror_mode": {
    "name": "ipython",
    "version": 3
   },
   "file_extension": ".py",
   "mimetype": "text/x-python",
   "name": "python",
   "nbconvert_exporter": "python",
   "pygments_lexer": "ipython3",
   "version": "3.7.7"
  }
 },
 "nbformat": 4,
 "nbformat_minor": 4
}

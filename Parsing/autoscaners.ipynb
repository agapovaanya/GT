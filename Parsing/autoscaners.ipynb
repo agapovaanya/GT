{
 "cells": [
  {
   "cell_type": "code",
   "execution_count": null,
   "metadata": {},
   "outputs": [],
   "source": [
    "import requests\n",
    "import re\n",
    "import urllib \n",
    "from bs4 import BeautifulSoup\n",
    "import string\n",
    "import pandas as pd\n",
    "import numpy as np\n",
    "import datetime\n",
    "import _datetime"
   ]
  },
  {
   "cell_type": "code",
   "execution_count": null,
   "metadata": {},
   "outputs": [],
   "source": [
    "url = 'https://www.autoscaners.ru/sitemap_iblock_catalogue.xml'\n",
    "r = requests.get(url)\n",
    "html_content = r.text\n",
    "soup = BeautifulSoup(html_content,'html.parser')\n",
    "\n",
    "\n",
    "\n"
   ]
  },
  {
   "cell_type": "code",
   "execution_count": null,
   "metadata": {},
   "outputs": [],
   "source": [
    "linki=[]\n",
    "for i in range(len(soup.findAll('loc'))):\n",
    "    print(i)\n",
    "    a=str(soup.findAll('loc')[i])\n",
    "    if a.find('catalogue')!=-1:\n",
    "        linki.append(a[5:-6])"
   ]
  },
  {
   "cell_type": "code",
   "execution_count": null,
   "metadata": {},
   "outputs": [],
   "source": [
    "len(linki)"
   ]
  },
  {
   "cell_type": "code",
   "execution_count": null,
   "metadata": {},
   "outputs": [],
   "source": [
    "name_all=[]\n",
    "brand_all=[]\n",
    "price_all=[]\n",
    "article_all=[]"
   ]
  },
  {
   "cell_type": "code",
   "execution_count": null,
   "metadata": {},
   "outputs": [],
   "source": [
    "for y in range(974,len(linki)):\n",
    "    print(y)\n",
    "    url = linki[y]\n",
    "    try:\n",
    "        r = requests.get(url)\n",
    "    except:\n",
    "        print('uuuu')\n",
    "    html_content = r.text\n",
    "    soup = BeautifulSoup(html_content,'html.parser')\n",
    "    article=''\n",
    "    name=''\n",
    "    brand=''\n",
    "    price=''\n",
    "    if soup.findAll('h1')!=[]:\n",
    "        name = soup.findAll('h1')[0].text\n",
    "\n",
    "    if soup.findAll('a',class_='brand')!=[]:\n",
    "        brand = soup.findAll('a',class_='brand')[-1].text.replace('\\n','')\n",
    "    if soup.findAll('div',class_='sales-item-new-price',id=\"new-price\")!=[]:\n",
    "        price=soup.findAll('div',class_='sales-item-new-price',id=\"new-price\")[0].text\n",
    "    if soup.findAll('span',class_='artnumber')!=[]:\n",
    "        article=soup.findAll('span',class_='artnumber')[0].text\n",
    "       \n",
    "\n",
    "    name_all.append(name)\n",
    "    brand_all.append(brand)\n",
    "    price_all.append(price)\n",
    "    article_all.append(article)"
   ]
  },
  {
   "cell_type": "code",
   "execution_count": null,
   "metadata": {},
   "outputs": [],
   "source": [
    "len(name_all)"
   ]
  },
  {
   "cell_type": "code",
   "execution_count": null,
   "metadata": {},
   "outputs": [],
   "source": [
    "table = pd.DataFrame(list(zip(name_all,brand_all,price_all,article_all,linki))) \n",
    "\n",
    "table.to_excel('autoscaners_300721.xlsx')"
   ]
  },
  {
   "cell_type": "code",
   "execution_count": null,
   "metadata": {},
   "outputs": [],
   "source": []
  }
 ],
 "metadata": {
  "kernelspec": {
   "display_name": "Python 3",
   "language": "python",
   "name": "python3"
  },
  "language_info": {
   "codemirror_mode": {
    "name": "ipython",
    "version": 3
   },
   "file_extension": ".py",
   "mimetype": "text/x-python",
   "name": "python",
   "nbconvert_exporter": "python",
   "pygments_lexer": "ipython3",
   "version": "3.7.7"
  }
 },
 "nbformat": 4,
 "nbformat_minor": 4
}

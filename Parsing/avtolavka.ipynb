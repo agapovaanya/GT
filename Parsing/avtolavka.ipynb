{
 "cells": [
  {
   "cell_type": "code",
   "execution_count": null,
   "metadata": {},
   "outputs": [],
   "source": [
    "import requests\n",
    "import re\n",
    "import urllib \n",
    "from bs4 import BeautifulSoup\n",
    "import string\n",
    "import pandas as pd\n",
    "import numpy as np\n",
    "import datetime\n",
    "import _datetime\n",
    "import time"
   ]
  },
  {
   "cell_type": "code",
   "execution_count": null,
   "metadata": {},
   "outputs": [],
   "source": [
    "\n",
    "headers = requests.utils.default_headers()\n",
    "headers['User-Agent'] = \"Mozilla/5.0 (Macintosh; Intel Mac OS X 10_15_7) AppleWebKit/537.36 (KHTML, like Gecko) Chrome/90.0.4430.212 Safari/537.36\"\n"
   ]
  },
  {
   "cell_type": "code",
   "execution_count": null,
   "metadata": {},
   "outputs": [],
   "source": [
    "\n",
    "url='https://avtolavka.net'\n",
    "r = requests.get(url, headers=headers)\n",
    "\n",
    "html_content = r.text\n",
    "soup = BeautifulSoup(html_content,'html.parser')\n",
    "tuy=[]\n",
    "for y in soup.findAll('a',class_='headCatalog-item-link'):\n",
    "    tuy.append(y.get('href'))\n",
    "tuy=np.unique(tuy)"
   ]
  },
  {
   "cell_type": "code",
   "execution_count": null,
   "metadata": {},
   "outputs": [],
   "source": [
    "price=[]\n",
    "kolvo=[]\n",
    "time=[]\n",
    "name_all=[]\n",
    "article_all=[]\n",
    "brand_all=[]\n",
    "url_all=[]\n",
    "musor=[]"
   ]
  },
  {
   "cell_type": "code",
   "execution_count": null,
   "metadata": {},
   "outputs": [],
   "source": [
    "len(tuy)"
   ]
  },
  {
   "cell_type": "code",
   "execution_count": null,
   "metadata": {},
   "outputs": [],
   "source": [
    "for h in range(len(tuy)):\n",
    "    print(h,'cat')\n",
    "    url='https://avtolavka.net'+tuy[h]\n",
    "    r = requests.get(url, headers=headers)\n",
    "\n",
    "    html_content = r.text\n",
    "    soup0 = BeautifulSoup(html_content,'html.parser')\n",
    "    if h==7:\n",
    "        ko=166\n",
    "    else:\n",
    "        ko=0\n",
    "    if soup0.findAll('li',class_='last')!=[]:\n",
    "        a=soup0.findAll('li',class_='last')[0].find('a').get('href')\n",
    "        ui=a.find('start=')\n",
    "        last_page=int(int(a[ui+6:])/20)+1\n",
    "        print('last page - ',last_page)\n",
    "        for r in range(ko,last_page):\n",
    "            print(r)\n",
    "            url0=url+'?start='+str(r*20)\n",
    "            r0 = requests.get(url0, headers=headers)\n",
    "\n",
    "            html_content0 = r0.text\n",
    "            soup = BeautifulSoup(html_content0,'html.parser')\n",
    "\n",
    "            all_prod=soup.findAll('li',class_='item')\n",
    "            name=''\n",
    "            article=''\n",
    "            brand=''\n",
    "            for u in range(len(all_prod)):\n",
    "                positio=all_prod[u]\n",
    "                if positio.findAll('a',target=\"_blank\")!=[]:\n",
    "                    name=positio.findAll('a',target=\"_blank\")[0].text.replace('\\t','').replace('\\n','')\n",
    "                    lin=positio.findAll('a',target=\"_blank\")[0].get('href')\n",
    "                else:\n",
    "                    musor.append(url0)\n",
    "                if positio.findAll('a',rel=\"nofollow\")!=[]:\n",
    "                    article=positio.findAll('a',rel=\"nofollow\")[0].text\n",
    "                if positio.findAll('a',class_='brandInfoLink')!=[]:    \n",
    "                    brand=positio.findAll('a',class_='brandInfoLink')[0].text.replace('\\n                                                    ','').replace('\\t','').replace('\\n','')\n",
    "\n",
    "\n",
    "\n",
    "                if positio.findAll('div',class_=\"price_block_in\")!=[]:\n",
    "                    price_osn=positio.findAll('div',class_=\"price_block_in\")[0].findAll('td')\n",
    "                    time.append(price_osn[0].text)\n",
    "                    kolvo.append(price_osn[1].text)\n",
    "                    price.append(price_osn[2].text.replace('\\n','').replace('\\t',''))\n",
    "                    name_all.append(name)\n",
    "                    article_all.append(article)\n",
    "                    brand_all.append(brand)\n",
    "                    if positio.findAll('div',class_='hidden-price-wrap hidden')!=[]:\n",
    "                        len_price=positio.findAll('div',class_='hidden-price-wrap hidden')[0].findAll('td')\n",
    "                        t=int(len(len_price)/3)\n",
    "\n",
    "\n",
    "                        for j in range(t):\n",
    "                            time.append(len_price[j*3].text)\n",
    "                            kolvo.append(len_price[j*3+1].text)\n",
    "                            price.append(len_price[j*3+2].text.replace('\\n','').replace('\\t',''))\n",
    "                            name_all.append(name)\n",
    "                            article_all.append(article)\n",
    "                            brand_all.append(brand)\n",
    "                            url_all.append(lin)\n",
    "\n",
    "                else:\n",
    "                    time.append('')\n",
    "                    kolvo.append('')\n",
    "                    price.append('')\n",
    "                    name_all.append(name)\n",
    "                    article_all.append(article)\n",
    "                    brand_all.append(brand)\n",
    "                    url_all.append(url0)\n",
    "\n",
    "\n"
   ]
  },
  {
   "cell_type": "code",
   "execution_count": null,
   "metadata": {},
   "outputs": [],
   "source": [
    "table = pd.DataFrame(list(zip(name_all,article_all,brand_all,time,kolvo,price,url_all))) \n",
    "\n",
    "table.to_excel('avtolavka_250621.xlsx')"
   ]
  },
  {
   "cell_type": "code",
   "execution_count": null,
   "metadata": {},
   "outputs": [],
   "source": []
  }
 ],
 "metadata": {
  "kernelspec": {
   "display_name": "Python 3",
   "language": "python",
   "name": "python3"
  },
  "language_info": {
   "codemirror_mode": {
    "name": "ipython",
    "version": 3
   },
   "file_extension": ".py",
   "mimetype": "text/x-python",
   "name": "python",
   "nbconvert_exporter": "python",
   "pygments_lexer": "ipython3",
   "version": "3.7.7"
  }
 },
 "nbformat": 4,
 "nbformat_minor": 4
}

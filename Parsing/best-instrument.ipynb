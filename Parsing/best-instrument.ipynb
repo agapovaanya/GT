{
 "cells": [
  {
   "cell_type": "code",
   "execution_count": null,
   "metadata": {},
   "outputs": [],
   "source": [
    "import requests\n",
    "import re\n",
    "import urllib \n",
    "from bs4 import BeautifulSoup\n",
    "import string\n",
    "import pandas as pd\n",
    "import numpy as np\n",
    "import datetime\n",
    "import _datetime"
   ]
  },
  {
   "cell_type": "code",
   "execution_count": null,
   "metadata": {},
   "outputs": [],
   "source": [
    "url = 'https://best-instruments.ru/sitemap'\n",
    "r = requests.get(url)\n",
    "html_content = r.text\n",
    "soup = BeautifulSoup(html_content,'html.parser')\n",
    "\n"
   ]
  },
  {
   "cell_type": "code",
   "execution_count": null,
   "metadata": {},
   "outputs": [],
   "source": [
    "linki=[]\n",
    "for i in range(len(soup.findAll('loc'))):\n",
    "    print(i)\n",
    "    a=str(soup.findAll('loc')[i])\n",
    "    if a.find('goods')!=-1:\n",
    "        linki.append(a[5:-6])"
   ]
  },
  {
   "cell_type": "code",
   "execution_count": null,
   "metadata": {},
   "outputs": [],
   "source": [
    "linki"
   ]
  },
  {
   "cell_type": "code",
   "execution_count": null,
   "metadata": {},
   "outputs": [],
   "source": [
    "len(linki)"
   ]
  },
  {
   "cell_type": "code",
   "execution_count": null,
   "metadata": {},
   "outputs": [],
   "source": [
    "name_all=[]\n",
    "price_all=[]\n",
    "brand_all=[]\n",
    "url_all=[]"
   ]
  },
  {
   "cell_type": "code",
   "execution_count": null,
   "metadata": {},
   "outputs": [],
   "source": [
    "\n",
    "for j in range(len(linki)):\n",
    "    print(j)\n",
    "    name=''\n",
    "    brand=''\n",
    "    price=''\n",
    "    url = linki[j]\n",
    "    try:\n",
    "        r = requests.get(url)\n",
    "    except:\n",
    "        print('opopopo')\n",
    "    html_content = r.text\n",
    "    soup = BeautifulSoup(html_content,'html.parser')\n",
    "    price=soup.findAll('li',class_='goodsDataMainModificationPriceNow')[0].text\n",
    "    name=soup.findAll('h1',class_=\"fnt18n\")[0].text\n",
    "    gh=soup.findAll('td')\n",
    "    for i in range(len(gh)):\n",
    "        if gh[i].text.find('Бренд')!=-1:\n",
    "            brand=gh[i+1].text\n",
    "            \n",
    "            \n",
    "    name_all.append(name)\n",
    "    price_all.append(price)\n",
    "    brand_all.append(brand)\n",
    "    url_all.append(url)\n",
    "    "
   ]
  },
  {
   "cell_type": "code",
   "execution_count": null,
   "metadata": {},
   "outputs": [],
   "source": [
    "table = pd.DataFrame(list(zip(name_all, brand_all, price_all,url_all)), columns =['Наименование товара', 'Бренд', 'Цена','Ссылка на товар']) \n",
    "\n",
    "table.to_excel('best-instrument 300721.xlsx')"
   ]
  }
 ],
 "metadata": {
  "kernelspec": {
   "display_name": "Python 3",
   "language": "python",
   "name": "python3"
  },
  "language_info": {
   "codemirror_mode": {
    "name": "ipython",
    "version": 3
   },
   "file_extension": ".py",
   "mimetype": "text/x-python",
   "name": "python",
   "nbconvert_exporter": "python",
   "pygments_lexer": "ipython3",
   "version": "3.7.7"
  }
 },
 "nbformat": 4,
 "nbformat_minor": 4
}

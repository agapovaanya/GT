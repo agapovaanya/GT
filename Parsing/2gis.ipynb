{
 "cells": [
  {
   "cell_type": "code",
   "execution_count": null,
   "metadata": {},
   "outputs": [],
   "source": [
    "#импортируем нужные библиотеки\n",
    "\n",
    "import urllib.request\n",
    "from bs4 import BeautifulSoup\n",
    "from selenium import webdriver\n",
    "import time\n",
    "import pandas as pd\n",
    "import datetime\n",
    "import _datetime\n",
    "import numpy as np\n",
    "import math\n",
    "from selenium.common.exceptions import TimeoutException\n",
    "from selenium.webdriver.support.ui import WebDriverWait # available since 2.4.0\n",
    "\n",
    "\n",
    "#путь к файлу хромдрайвер\n",
    "path='/Users/anna/Downloads/chromedriver 3'\n",
    "\n",
    "current_datetime1 = datetime.datetime.now() #для отслеживания времени\n",
    "urlpage = 'https://2gis.ru/spb/rubrics' #изначальная страница с которой парсим"
   ]
  },
  {
   "cell_type": "code",
   "execution_count": null,
   "metadata": {},
   "outputs": [],
   "source": [
    "#информация о компании\n",
    "def info_firm_long(urlpage):\n",
    "    \n",
    "    driver = webdriver.Chrome(executable_path = path)\n",
    "    driver.get(urlpage)\n",
    "    driver.execute_script(\"window.scrollTo(0, document.body.scrollHeight);var lenOfPage=document.body.scrollHeight;return lenOfPage;\")\n",
    "    time.sleep(0.1)\n",
    "    #наименование, куда относится\n",
    "    names = driver.find_elements_by_xpath(\"//span[contains(concat(' ', normalize-space(@class), ' '), '_oqoid')]\")\n",
    "    podpis_pod_imenem=''\n",
    "    text=[]\n",
    "    for elem in names:\n",
    "        href = elem.text\n",
    "        text.append(href)\n",
    "\n",
    "    name=text[0]\n",
    "    if len(text)!=1:\n",
    "        podpis_pod_imenem=text[1]\n",
    "    \n",
    "    adress_full=''\n",
    "    #полный адрес\n",
    "    na = driver.find_elements_by_xpath(\"//div[contains(concat(' ', normalize-space(@class), ' '), '_1p8iqzw')]\")\n",
    "    if na!=[]:\n",
    "        adress_full=na[0].text \n",
    "    \n",
    "    \n",
    "    \n",
    "    #работает или нет\n",
    "    rabotas=''\n",
    "    rabota=driver.find_elements_by_xpath(\"//div[contains(concat(' ', normalize-space(@class), ' '), '_1xhsi5o')]\")\n",
    "    if rabota!=[]:\n",
    "        rabotas=rabota[0].text\n",
    "    \n",
    "    \n",
    "    #юр название\n",
    "    yur_name = driver.find_elements_by_xpath(\"//div[contains(concat(' ', normalize-space(@class), ' '), '_1q1z1sxo')]\")\n",
    "    if yur_name==[]:\n",
    "        name_yur=''\n",
    "    else:\n",
    "        name_yur=yur_name[0].text\n",
    "        \n",
    "    \n",
    "\n",
    "    #адрес\n",
    "    ad=driver.find_elements_by_xpath(\"//a[contains(concat(' ', normalize-space(@class), ' '), '_ke2cp9k')]\")\n",
    "\n",
    "\n",
    "    inf=[]\n",
    "    tel=''\n",
    "    adress=''\n",
    "    mail=''\n",
    "    for i in ad:\n",
    "        mm=i.get_attribute(\"href\")\n",
    "        if mm.find('tel:')>-1:\n",
    "            tel=mm[4:]\n",
    "        if mm.find('/geo/')>-1:\n",
    "            adress=i.text\n",
    "        if mm.find('mailto')>-1: \n",
    "            mail=i.text\n",
    "        \n",
    "    \n",
    "    \n",
    "    \n",
    "    \n",
    "    #сайт\n",
    "    sites=driver.find_elements_by_xpath(\"//a[contains(concat(' ', normalize-space(@class), ' '), '_vhuumw')]\")\n",
    "\n",
    "    site=''\n",
    "    for i in sites:\n",
    "        mm=i.text\n",
    "        if mm.find('.ru')>-1:\n",
    "            site=mm\n",
    "\n",
    "    \n",
    "\n",
    "\n",
    "    #инфо\n",
    "    si1s=driver.find_elements_by_xpath(\"//a[contains(concat(' ', normalize-space(@class), ' '), '_ke2cp9k')]\")\n",
    "    \n",
    "    new_link_info=si1s[0].get_attribute(\"href\")\n",
    "    driver.quit()\n",
    "    driver = webdriver.Chrome(executable_path = path)\n",
    "    driver.get(new_link_info)\n",
    "    driver.execute_script(\"window.scrollTo(0, document.body.scrollHeight);var lenOfPage=document.body.scrollHeight;return lenOfPage;\")\n",
    "    time.sleep(0.04)\n",
    "\n",
    "    #категории на листе инфо\n",
    "    papki=driver.find_elements_by_xpath(\"//span[contains(concat(' ', normalize-space(@class), ' '), '_btwk9a2')]\")\n",
    "\n",
    "    category=[]\n",
    "    for i in papki:\n",
    "        mm=i.text\n",
    "        if mm!='В справочнике' and mm!='Транспорт':\n",
    "            category.append(mm)\n",
    "    #print(category)\n",
    "    \n",
    "    \n",
    "    #в справочнике\n",
    "    sprav=driver.find_elements_by_xpath(\"//a[contains(concat(' ', normalize-space(@class), ' '), '_vhuumw')]\")\n",
    "\n",
    "\n",
    "    spravochnik=[]\n",
    "    for i in sprav:\n",
    "        mm=i.text\n",
    "        nn=i.get_attribute(\"href\")\n",
    "        if nn.find('/search/')>-1:\n",
    "            spravochnik.append(mm)\n",
    "        \n",
    "    \n",
    "    sprav_final.append(spravochnik)\n",
    "    names_final.append(name)\n",
    "    podpis_pod_imenem_final.append(podpis_pod_imenem)\n",
    "    categorys_final.append(category)\n",
    "    sites_final.append(site)\n",
    "    adress_final.append(adress)\n",
    "    tel_final.append(tel)\n",
    "    mail_final.append(mail)\n",
    "    name_yur_final.append(name_yur)\n",
    "    rabota_final.append(rabotas)\n",
    "    adress_full_final.append(adress_full)\n",
    "    \n",
    "    \n",
    "    \n",
    "    driver.quit()\n",
    "    "
   ]
  },
  {
   "cell_type": "code",
   "execution_count": null,
   "metadata": {},
   "outputs": [],
   "source": [
    "names_final=[]\n",
    "podpis_pod_imenem_final=[]\n",
    "name_yur_final=[]\n",
    "adress_final=[]\n",
    "rabota_final=[]\n",
    "tel_final=[]\n",
    "mail_final=[]\n",
    "sites_final=[]\n",
    "categorys_final=[]\n",
    "sprav_final=[]\n",
    "adress_full_final=[]"
   ]
  },
  {
   "cell_type": "code",
   "execution_count": null,
   "metadata": {},
   "outputs": [],
   "source": [
    "driver = webdriver.Chrome(executable_path = path)\n",
    "driver.get(urlpage)\n",
    "driver.execute_script(\"window.scrollTo(0, document.body.scrollHeight);var lenOfPage=document.body.scrollHeight;return lenOfPage;\")\n",
    "time.sleep(0.04)"
   ]
  },
  {
   "cell_type": "code",
   "execution_count": null,
   "metadata": {},
   "outputs": [],
   "source": [
    "# ссылки рубрик\n",
    "links_for_rubric=driver.find_elements_by_xpath(\"//a[contains(concat(' ', normalize-space(@class), ' '), '_dawz3y')]\")"
   ]
  },
  {
   "cell_type": "code",
   "execution_count": null,
   "metadata": {},
   "outputs": [],
   "source": [
    "names_rubrik=[]\n",
    "links_rubrik=[]\n",
    "for i in range(len(links_for_rubric)):\n",
    "    #название рубрики\n",
    "    names_rubrik.append(links_for_rubric[i].get_attribute(\"aria-label\"))\n",
    "    #название рубрики\n",
    "    links_rubrik.append(links_for_rubric[i].get_attribute(\"href\"))"
   ]
  },
  {
   "cell_type": "code",
   "execution_count": null,
   "metadata": {},
   "outputs": [],
   "source": [
    "name_podrubriks=[]\n",
    "link_podrubriks=[]\n",
    "#for j in range(len(links_rubrik)):\n",
    "for j in range(2):\n",
    "    \n",
    "    driver = webdriver.Chrome(executable_path = path)\n",
    "    driver.get(links_rubrik[j])\n",
    "    driver.execute_script(\"window.scrollTo(0, document.body.scrollHeight);var lenOfPage=document.body.scrollHeight;return lenOfPage;\")\n",
    "    time.sleep(0.04)\n",
    "    # ссылки подрубрик\n",
    "    o22=driver.find_elements_by_xpath(\"//a[contains(concat(' ', normalize-space(@class), ' '), '_dawz3y')]\")\n",
    "    \n",
    "    for i in o22:\n",
    "        if i.get_attribute(\"href\").find('/rubricId/')>-1:\n",
    "            name_podrubriks.append(i.get_attribute(\"aria-label\"))\n",
    "            link_podrubriks.append(i.get_attribute(\"href\"))\n",
    "        if i.get_attribute(\"title\")=='Ещё':\n",
    "            #print(links_rubrik[j])\n",
    "            \n",
    "            linki=i.get_attribute(\"href\")\n",
    "            driver = webdriver.Chrome(executable_path = path)\n",
    "            driver.get('https://2gis.ru/spb/rubrics/subrubrics/111546')\n",
    "            driver.execute_script(\"window.scrollTo(0, document.body.scrollHeight);var lenOfPage=document.body.scrollHeight;return lenOfPage;\")\n",
    "            time.sleep(0.04)\n",
    "            hh=driver.find_elements_by_xpath(\"//a[contains(concat(' ', normalize-space(@class), ' '), '_vhuumw')]\")\n",
    "            for j in range(len(hh)):\n",
    "                link_podrubriks.append(hh[j].get_attribute(\"href\"))\n",
    "                \n",
    "            \n",
    "    driver.quit()"
   ]
  },
  {
   "cell_type": "code",
   "execution_count": null,
   "metadata": {},
   "outputs": [],
   "source": [
    "link_podrubriks=['https://2gis.ru/spb/search/%D0%A8%D0%B8%D0%BD%D0%BE%D0%BC%D0%BE%D0%BD%D1%82%D0%B0%D0%B6/rubricId/7689']"
   ]
  },
  {
   "cell_type": "code",
   "execution_count": null,
   "metadata": {},
   "outputs": [],
   "source": [
    "link_firm=[]\n",
    "finnames=[]\n",
    "finadres=[]\n",
    "tip=[]"
   ]
  },
  {
   "cell_type": "code",
   "execution_count": null,
   "metadata": {},
   "outputs": [],
   "source": [
    "\n",
    "for u in range(len(link_podrubriks)):\n",
    "    driver = webdriver.Chrome(executable_path = path)\n",
    "    driver.get(link_podrubriks[u])\n",
    "    driver.execute_script(\"window.scrollTo(0, document.body.scrollHeight);var lenOfPage=document.body.scrollHeight;return lenOfPage;\")\n",
    "    time.sleep(1)\n",
    "    vsego_klient=driver.find_elements_by_xpath(\"//span[contains(concat(' ', normalize-space(@class), ' '), '_18lf326a')]\")\n",
    "    max_pages=math.ceil(int(vsego_klient[0].text)/12)\n",
    "    driver.find_element_by_xpath('/html/body/div/div/div/div[3]/footer/div[1]/div[2]').click()\n",
    "    #for m in range(max_pages):\n",
    "    stop=0\n",
    "    for m in range(max_pages):\n",
    "        if stop==2:\n",
    "            print('hello')\n",
    "        else:\n",
    "            print(m)\n",
    "            firms=driver.find_elements_by_xpath(\"//a[contains(concat(' ', normalize-space(@class), ' '), '_vhuumw')]\")\n",
    "            for j in firms:\n",
    "                link=j.get_attribute(\"href\")\n",
    "\n",
    "                if link.find('/firm')>-1:\n",
    "                    link_firm.append(link)\n",
    "                    #print(j.text)\n",
    "            names_frim=driver.find_elements_by_xpath(\"//span[contains(concat(' ', normalize-space(@class), ' '), '_hc69qa')]\")\n",
    "            for j in names_frim:\n",
    "                nam=j.text\n",
    "                finnames.append(nam)\n",
    "            adres_frim=driver.find_elements_by_xpath(\"//span[contains(concat(' ', normalize-space(@class), ' '), '_tluih8')]\")\n",
    "            for j in adres_frim:\n",
    "                adr=j.text\n",
    "                finadres.append(adr)    \n",
    "            tip_frim=driver.find_elements_by_xpath(\"//span[contains(concat(' ', normalize-space(@class), ' '), '_oqoid')]\")\n",
    "            for j in tip_frim:\n",
    "                tip_n=j.text\n",
    "                tip.append(tip_n)\n",
    "\n",
    "            try:\n",
    "                driver.find_element_by_xpath('/html/body/div/div/div/div[1]/div[1]/div[2]/div/div/div[2]/div/div/div/div[2]/div[2]/div[1]/div/div/div[1]/div[2]/div[2]/div[2]').click()\n",
    "            except:\n",
    "                try:\n",
    "                    driver.find_element_by_xpath('/html/body/div/div/div/div[1]/div[1]/div[2]/div/div/div[2]/div/div/div/div[2]/div[2]/div[1]/div/div/div[1]/div[3]/div[2]/div[2]').click()\n",
    "                except:\n",
    "                    try:\n",
    "                        driver.find_element_by_xpath('/html/body/div/div/div/div[1]/div[1]/div[2]/div/div/div[2]/div/div/div/div[2]/div[2]/div[1]/div/div/div[1]/div[4]/div[2]/div[2]').click()\n",
    "                    except:\n",
    "                        stop=2\n",
    "                \n",
    "        time.sleep(1)\n",
    "    driver.quit()"
   ]
  },
  {
   "cell_type": "code",
   "execution_count": null,
   "metadata": {},
   "outputs": [],
   "source": [
    "#формирование итоговой таблицы\n",
    "table=pd.DataFrame(list(zip(tip,finadres,finnames,link_firm)))"
   ]
  },
  {
   "cell_type": "code",
   "execution_count": null,
   "metadata": {},
   "outputs": [],
   "source": [
    "finadres=[]\n",
    "adres_frim=driver.find_elements_by_xpath(\"//span[contains(concat(' ', normalize-space(@class), ' '), '_tluih8')]\")\n",
    "for j in adres_frim:\n",
    "    adr=j.text\n",
    "    finadres.append(adr)"
   ]
  },
  {
   "cell_type": "code",
   "execution_count": null,
   "metadata": {},
   "outputs": [],
   "source": [
    "tip=[]\n",
    "tip_frim=driver.find_elements_by_xpath(\"//span[contains(concat(' ', normalize-space(@class), ' '), '_oqoid')]\")\n",
    "for j in tip_frim:\n",
    "    tip_n=j.text\n",
    "    tip.append(tip_n)"
   ]
  },
  {
   "cell_type": "code",
   "execution_count": null,
   "metadata": {},
   "outputs": [],
   "source": [
    "tip"
   ]
  },
  {
   "cell_type": "code",
   "execution_count": null,
   "metadata": {},
   "outputs": [],
   "source": [
    "link_firm3=np.unique(link_firm)"
   ]
  },
  {
   "cell_type": "code",
   "execution_count": null,
   "metadata": {},
   "outputs": [],
   "source": [
    "final_links_firm=[]"
   ]
  },
  {
   "cell_type": "code",
   "execution_count": null,
   "metadata": {},
   "outputs": [],
   "source": [
    "\n",
    "for i in range(len(link_firm3)):\n",
    "    final_links_firm.append(link_firm3[i])"
   ]
  },
  {
   "cell_type": "code",
   "execution_count": null,
   "metadata": {},
   "outputs": [],
   "source": [
    "import datetime\n",
    "import _datetime"
   ]
  },
  {
   "cell_type": "code",
   "execution_count": null,
   "metadata": {},
   "outputs": [],
   "source": [
    "current_datetime1 = datetime.datetime.now()\n",
    "#получение информации по компании\n",
    "for h in range(2810,3000):\n",
    "#for h in range(4):\n",
    "    try:\n",
    "        info_firm(final_links_firm[h])\n",
    "        print(h)\n",
    "    except:\n",
    "        info_firm_long(final_links_firm[h])\n",
    "        print(h,'long')\n",
    "\n",
    "current_datetime2 = datetime.datetime.now()\n",
    "current_datetime2-current_datetime1"
   ]
  },
  {
   "cell_type": "code",
   "execution_count": null,
   "metadata": {},
   "outputs": [],
   "source": [
    "current_datetime2 = datetime.datetime.now()\n",
    "current_datetime2-current_datetime1"
   ]
  },
  {
   "cell_type": "code",
   "execution_count": null,
   "metadata": {},
   "outputs": [],
   "source": [
    "#формирование итоговой таблицы\n",
    "table=pd.DataFrame(list(zip(names_final,podpis_pod_imenem_final,rabota_final,name_yur_final,adress_final,adress_full_final,tel_final,mail_final,sites_final,categorys_final,sprav_final,coord_full_final)),columns=['Наименование','Подпись под именем','Статус','Юридический адрес','Адрес','Адрес полный','Телефон','Почта','Сайт','Категории','Справочники','Координаты'])"
   ]
  },
  {
   "cell_type": "code",
   "execution_count": null,
   "metadata": {},
   "outputs": [],
   "source": [
    "table.to_excel('final_parsing_5.xlsx')"
   ]
  },
  {
   "cell_type": "code",
   "execution_count": null,
   "metadata": {},
   "outputs": [],
   "source": []
  }
 ],
 "metadata": {
  "kernelspec": {
   "display_name": "Python 3",
   "language": "python",
   "name": "python3"
  },
  "language_info": {
   "codemirror_mode": {
    "name": "ipython",
    "version": 3
   },
   "file_extension": ".py",
   "mimetype": "text/x-python",
   "name": "python",
   "nbconvert_exporter": "python",
   "pygments_lexer": "ipython3",
   "version": "3.7.7"
  }
 },
 "nbformat": 4,
 "nbformat_minor": 4
}

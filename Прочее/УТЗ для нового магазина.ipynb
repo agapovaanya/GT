{
 "cells": [
  {
   "cell_type": "code",
   "execution_count": 2,
   "metadata": {},
   "outputs": [],
   "source": [
    "#импортируем нужные библиотеки\n",
    "\n",
    "import urllib.request\n",
    "from bs4 import BeautifulSoup\n",
    "from selenium import webdriver\n",
    "import time\n",
    "import pandas as pd\n",
    "import datetime\n",
    "import _datetime\n",
    "import numpy as np\n",
    "import math\n",
    "import xlrd\n",
    "import numpy"
   ]
  },
  {
   "cell_type": "code",
   "execution_count": 236,
   "metadata": {},
   "outputs": [],
   "source": [
    "#параметры, задаваемые пользователем\n",
    "perv_mesyac=3 #первый полный месяц продажи\n",
    "str_zapas=0 #страховой запас\n",
    "mesyac_tz=3 #количество месяцев ТЗ\n",
    "malenk_prodazhi=10 #количество проданных штук, которые считаются маленькими продажами\n",
    "kolvo_magazov=3#количество магазинов в категории"
   ]
  },
  {
   "cell_type": "code",
   "execution_count": 8,
   "metadata": {},
   "outputs": [],
   "source": [
    "#коэффициент сезонности\n",
    "\n",
    "rb=xlrd.open_workbook('/Users/anna/Downloads/оборот розницы.xlsx') \n",
    "sheet=rb.sheet_by_index(0) \n",
    "oborot_rozn=[] \n",
    "for rownum in range(sheet.nrows): \n",
    "    row=sheet.row_values(rownum) \n",
    "    for c_el in row: \n",
    "        oborot_rozn.append(c_el)\n",
    "        \n",
    "        \n",
    "data_month=[]\n",
    "data_year=[]\n",
    "obor=[]\n",
    "\n",
    "for i in range(0,len(oborot_rozn),3):\n",
    "    data_month.append(oborot_rozn[i])\n",
    "for i in range(1,len(oborot_rozn),3):\n",
    "    data_year.append(oborot_rozn[i])\n",
    "for i in range(2,len(oborot_rozn),3):\n",
    "    obor.append(oborot_rozn[i])\n",
    "\n",
    "x=range(1,37)\n",
    "otkl_x=[]\n",
    "otkl_x_kv=[]\n",
    "otkl_obor=[]\n",
    "umn=[]\n",
    "for i in range(36):\n",
    "    \n",
    "    otkl_x_zn=x[i]-(sum(x)/len(x))\n",
    "    otkl_x.append(otkl_x_zn)\n",
    "    otkl_x_kv_zn=otkl_x_zn*otkl_x_zn\n",
    "    otkl_x_kv.append(otkl_x_kv_zn)\n",
    "    otkl_obor_zn=obor[i+1]-(sum(obor[1:37])/len(obor[1:37]))\n",
    "    otkl_obor.append(otkl_obor_zn)\n",
    "    umn_zn=otkl_x_zn*otkl_obor_zn\n",
    "    umn.append(umn_zn)\n",
    "\n",
    "b=sum(umn)/sum(otkl_x_kv)\n",
    "a=sum(obor[1:37])/len(obor[1:37])-(sum(x)/len(x))*b\n",
    "trend=[]\n",
    "for i in range(36):\n",
    "    trend.append(a+b*x[i])\n",
    "\n",
    "otkl_fact_trend=[]\n",
    "for i in range(36):\n",
    "    otkl_fact_trend.append(obor[1+i]/trend[i])\n",
    "    \n",
    "sr_otl_month=[]\n",
    "for i in range(12):\n",
    "    sr_otl_month.append((otkl_fact_trend[i]+otkl_fact_trend[i+12]+otkl_fact_trend[i+24])/3)\n",
    "\n",
    "obs_index_sez=sum(sr_otl_month)/len(sr_otl_month)\n",
    "koef_sez=[]\n",
    "for i in range(12):\n",
    "    koef_sez.append(sr_otl_month[i]/obs_index_sez)      "
   ]
  },
  {
   "cell_type": "code",
   "execution_count": 15,
   "metadata": {},
   "outputs": [],
   "source": [
    "m=int(13-data_month[1])\n",
    "koef_final_sez=koef_sez[m:]+koef_sez[:m]"
   ]
  },
  {
   "cell_type": "code",
   "execution_count": 119,
   "metadata": {},
   "outputs": [],
   "source": [
    "koef_final=koef_final_sez[(perv_mesyac-1):]+koef_final_sez[:(perv_mesyac-1)]"
   ]
  },
  {
   "cell_type": "code",
   "execution_count": 86,
   "metadata": {},
   "outputs": [],
   "source": [
    "koef_final_final=koef_final_sez+koef_final_sez+koef_final_sez"
   ]
  },
  {
   "cell_type": "code",
   "execution_count": 53,
   "metadata": {},
   "outputs": [],
   "source": [
    "rb=xlrd.open_workbook('/Users/anna/Downloads/первый год.xlsx') \n",
    "sheet=rb.sheet_by_index(0) \n",
    "first_year=[] \n",
    "for rownum in range(sheet.nrows): \n",
    "    row=sheet.row_values(rownum) \n",
    "    for c_el in row: \n",
    "        first_year.append(c_el)"
   ]
  },
  {
   "cell_type": "code",
   "execution_count": 88,
   "metadata": {},
   "outputs": [],
   "source": [
    "first_year_kor=[]\n",
    "for i in range(int(len(first_year)/13)):\n",
    "    dl=0\n",
    "    for u in range(12):\n",
    "        dl+=1\n",
    "        first_year_kor.append(first_year[u+13*i]/koef_final_final[int(first_year[13*(i+1)-1])-2+dl])"
   ]
  },
  {
   "cell_type": "code",
   "execution_count": 29,
   "metadata": {},
   "outputs": [],
   "source": [
    "kolvo_magaz=int(len(first_year)/13)"
   ]
  },
  {
   "cell_type": "code",
   "execution_count": 101,
   "metadata": {},
   "outputs": [
    {
     "name": "stdout",
     "output_type": "stream",
     "text": [
      "1063030.6774235484\n",
      "313032.5430302027\n",
      "871209.2094176573\n",
      "350304.7186504633\n",
      "683731.4228692189\n",
      "449162.29096888646\n",
      "833445.1423404702\n",
      "337941.19897197385\n",
      "498392.127238397\n",
      "482262.3087192915\n",
      "693414.6405042488\n",
      "341257.0075330868\n",
      "611832.939198063\n",
      "374550.6786921282\n",
      "991968.2121009484\n",
      "390939.3865790651\n",
      "785004.518499844\n",
      "431140.2851867787\n",
      "809214.1807286796\n",
      "944981.0119097991\n",
      "832987.1709735473\n",
      "682997.1992071529\n",
      "943125.5422274488\n",
      "143046.02055312824\n"
     ]
    }
   ],
   "source": [
    "m_obs=[]\n",
    "for i in range(12):\n",
    "    ob=0\n",
    "    for g in range(kolvo_magaz):\n",
    "        \n",
    "        ob+=first_year_kor[i+g*12]\n",
    "    m_obs.append(ob/kolvo_magaz)        "
   ]
  },
  {
   "cell_type": "code",
   "execution_count": 111,
   "metadata": {},
   "outputs": [],
   "source": [
    "sr_oborot_mesyac=oborot_posl_god/12 \n",
    "otl_perv_ot_posl=(sum(m_obs)/len(m_obs))/sr_oborot_mesyac"
   ]
  },
  {
   "cell_type": "code",
   "execution_count": 103,
   "metadata": {},
   "outputs": [],
   "source": [
    "m_obs_mean=sum(m_obs)/len(m_obs)"
   ]
  },
  {
   "cell_type": "code",
   "execution_count": 105,
   "metadata": {},
   "outputs": [],
   "source": [
    "otkl_month=[]\n",
    "for i in range(12):\n",
    "    otkl_month.append(m_obs[i]/m_obs_mean)"
   ]
  },
  {
   "cell_type": "code",
   "execution_count": 120,
   "metadata": {},
   "outputs": [],
   "source": [
    "progn=[]\n",
    "for g in range(12):\n",
    "    progn.append(koef_final[g]*otkl_month[g]*otl_perv_ot_posl*sr_oborot_mesyac)"
   ]
  },
  {
   "cell_type": "code",
   "execution_count": 122,
   "metadata": {},
   "outputs": [],
   "source": [
    "sum_prog=0\n",
    "for i in range(mesyac_tz):\n",
    "    sum_prog+=progn[i]"
   ]
  },
  {
   "cell_type": "code",
   "execution_count": 125,
   "metadata": {},
   "outputs": [],
   "source": [
    "sum_prog_strax=sum_prog*(1+str_zapas)"
   ]
  },
  {
   "cell_type": "code",
   "execution_count": null,
   "metadata": {},
   "outputs": [],
   "source": [
    "oborot_posl_god=7043776.965  #средний оборот по магазинам категории нового магазина"
   ]
  },
  {
   "cell_type": "code",
   "execution_count": null,
   "metadata": {},
   "outputs": [],
   "source": []
  },
  {
   "cell_type": "code",
   "execution_count": null,
   "metadata": {},
   "outputs": [],
   "source": []
  },
  {
   "cell_type": "code",
   "execution_count": null,
   "metadata": {},
   "outputs": [],
   "source": []
  },
  {
   "cell_type": "code",
   "execution_count": 139,
   "metadata": {},
   "outputs": [],
   "source": [
    "rb=xlrd.open_workbook('/Users/anna/Downloads/продажи_УТЗ.xlsx') \n",
    "sheet=rb.sheet_by_index(0) \n",
    "a=[] \n",
    "for rownum in range(sheet.nrows): \n",
    "    row=sheet.row_values(rownum) \n",
    "    for c_el in row: \n",
    "        a.append(c_el)"
   ]
  },
  {
   "cell_type": "code",
   "execution_count": 140,
   "metadata": {},
   "outputs": [],
   "source": [
    "artic=[]\n",
    "summa_prodaz=[]\n",
    "kolvo_prodaz=[]\n",
    "\n",
    "\n",
    "for i in range(0,len(a),5):\n",
    "    artic.append(a[i])\n",
    "for i in range(3,len(a),5):\n",
    "    summa_prodaz.append(a[i])\n",
    "for i in range(4,len(a),5):\n",
    "    kolvo_prodaz.append(a[i])\n"
   ]
  },
  {
   "cell_type": "code",
   "execution_count": 146,
   "metadata": {},
   "outputs": [],
   "source": [
    "rb=xlrd.open_workbook('/Users/anna/Downloads/розничные цены.xlsx') \n",
    "sheet=rb.sheet_by_index(0) \n",
    "a=[] \n",
    "for rownum in range(sheet.nrows): \n",
    "    row=sheet.row_values(rownum) \n",
    "    for c_el in row: \n",
    "        a.append(c_el)"
   ]
  },
  {
   "cell_type": "code",
   "execution_count": 147,
   "metadata": {},
   "outputs": [],
   "source": [
    "artic_rozn_cena=[]\n",
    "rozn_cena=[]\n",
    "\n",
    "for i in range(0,len(a),9):\n",
    "    artic_rozn_cena.append(a[i])\n",
    "for i in range(8,len(a),9):\n",
    "    rozn_cena.append(a[i])\n"
   ]
  },
  {
   "cell_type": "code",
   "execution_count": 220,
   "metadata": {},
   "outputs": [],
   "source": [
    "rb=xlrd.open_workbook('/Users/anna/Downloads/матрица розницы.xlsx') \n",
    "sheet=rb.sheet_by_index(0) \n",
    "a=[] \n",
    "for rownum in range(sheet.nrows): \n",
    "    row=sheet.row_values(rownum) \n",
    "    for c_el in row: \n",
    "        a.append(c_el)"
   ]
  },
  {
   "cell_type": "code",
   "execution_count": 221,
   "metadata": {},
   "outputs": [],
   "source": [
    "artic_rozn=[]\n",
    "new_rozn=[]\n",
    "vitrina_rozn=[]\n",
    "korobka_rozn=[]\n",
    "kolvo_magaz_s_pr=[]\n",
    "\n",
    "for i in range(0,len(a),6):\n",
    "    artic_rozn.append(a[i])\n",
    "for i in range(2,len(a),6):\n",
    "    new_rozn.append(a[i])\n",
    "for i in range(3,len(a),6):\n",
    "    vitrina_rozn.append(a[i])\n",
    "for i in range(4,len(a),6):\n",
    "    korobka_rozn.append(a[i])\n",
    "for i in range(4,len(a),6):\n",
    "    kolvo_magaz_s_pr.append(3)"
   ]
  },
  {
   "cell_type": "code",
   "execution_count": 222,
   "metadata": {},
   "outputs": [],
   "source": [
    "obor_rozn=[]\n",
    "kolv_rozn=[]\n",
    "stoim_rozn=[]\n",
    "for i in range(len(artic_rozn)):\n",
    "    r=0\n",
    "    p=0\n",
    "    stoim=0\n",
    "    for h in range(len(artic)):\n",
    "        if artic_rozn[i]==artic[h]:\n",
    "            r=summa_prodaz[h]\n",
    "            p=kolvo_prodaz[h]\n",
    "            try:\n",
    "                stoim=int(r)/int(p)\n",
    "            except:\n",
    "                stoim=0\n",
    "    if stoim==0:\n",
    "        for y in range(len(rozn_cena)):\n",
    "            if artic_rozn[i]==artic_rozn_cena[y]:\n",
    "                stoim=rozn_cena[y]\n",
    "    \n",
    "        \n",
    "    obor_rozn.append(r)\n",
    "    kolv_rozn.append(p)\n",
    "    stoim_rozn.append(stoim)"
   ]
  },
  {
   "cell_type": "code",
   "execution_count": 223,
   "metadata": {},
   "outputs": [],
   "source": [
    "df=pd.DataFrame(list(zip(artic_rozn[1:],vitrina_rozn[1:],korobka_rozn[1:],obor_rozn[1:],kolv_rozn[1:],stoim_rozn[1:])),columns=['Артикул','Витрина','Коробка','Оборот категории','Количество проданных шт','Цена 1 шт'])"
   ]
  },
  {
   "cell_type": "code",
   "execution_count": 224,
   "metadata": {},
   "outputs": [],
   "source": [
    "df2=df.sort_values(by=['Оборот категории'], ascending=False)"
   ]
  },
  {
   "cell_type": "code",
   "execution_count": 231,
   "metadata": {},
   "outputs": [],
   "source": [
    "df2['Количество магазинов с продажами']=3"
   ]
  },
  {
   "cell_type": "code",
   "execution_count": 225,
   "metadata": {},
   "outputs": [],
   "source": [
    "\n",
    "summ_za_god=sum(df2['Оборот категории']) #оборот категории за последний год"
   ]
  },
  {
   "cell_type": "code",
   "execution_count": 226,
   "metadata": {},
   "outputs": [
    {
     "name": "stderr",
     "output_type": "stream",
     "text": [
      "/Users/anna/opt/anaconda3/envs/denis/lib/python3.7/site-packages/ipykernel_launcher.py:5: SettingWithCopyWarning: \n",
      "A value is trying to be set on a copy of a slice from a DataFrame\n",
      "\n",
      "See the caveats in the documentation: https://pandas.pydata.org/pandas-docs/stable/user_guide/indexing.html#returning-a-view-versus-a-copy\n",
      "  \"\"\"\n"
     ]
    }
   ],
   "source": [
    "#скорректированная сумма\n",
    "df2['Скорректированная сумма']=1\n",
    "for i in range(len(df2)):\n",
    "    try:\n",
    "        df2['Скорректированная сумма'][i]=df2['Оборот категории'][i]*sum_prog_strax/summ_za_god\n",
    "    except:\n",
    "        0"
   ]
  },
  {
   "cell_type": "code",
   "execution_count": 241,
   "metadata": {},
   "outputs": [
    {
     "name": "stderr",
     "output_type": "stream",
     "text": [
      "/Users/anna/opt/anaconda3/envs/denis/lib/python3.7/site-packages/ipykernel_launcher.py:9: SettingWithCopyWarning: \n",
      "A value is trying to be set on a copy of a slice from a DataFrame\n",
      "\n",
      "See the caveats in the documentation: https://pandas.pydata.org/pandas-docs/stable/user_guide/indexing.html#returning-a-view-versus-a-copy\n",
      "  if __name__ == '__main__':\n",
      "/Users/anna/opt/anaconda3/envs/denis/lib/python3.7/site-packages/ipykernel_launcher.py:11: SettingWithCopyWarning: \n",
      "A value is trying to be set on a copy of a slice from a DataFrame\n",
      "\n",
      "See the caveats in the documentation: https://pandas.pydata.org/pandas-docs/stable/user_guide/indexing.html#returning-a-view-versus-a-copy\n",
      "  # This is added back by InteractiveShellApp.init_path()\n"
     ]
    }
   ],
   "source": [
    "#рассчетные продажи на новый магазин, исходя из заданного количества месяцев ТЗ\n",
    "df2['Расчетные продажи']=1\n",
    "for i in range(len(df2)):\n",
    "    try:\n",
    "        if df2['Количество магазинов с продажами'][i]<(kolvo_magazov/2) and df2['Количество проданных шт']<malenk_prodazhi:\n",
    "            df2['Расчетные продажи'][i]=0\n",
    "        else:\n",
    "            if df2['Скорректированная сумма'][i]/df2['Цена 1 шт'][i]<1:\n",
    "                df2['Расчетные продажи'][i]=1\n",
    "            else:\n",
    "                df2['Расчетные продажи'][i]=round(df2['Скорректированная сумма'][i]/df2['Цена 1 шт'][i])\n",
    "    except:\n",
    "        df2['Расчетные продажи'][i]=0\n",
    "    "
   ]
  },
  {
   "cell_type": "code",
   "execution_count": 228,
   "metadata": {},
   "outputs": [],
   "source": [
    "df2['Стоимость итого']=df2['Расчетные продажи']*df2['Цена 1 шт']"
   ]
  },
  {
   "cell_type": "code",
   "execution_count": 229,
   "metadata": {},
   "outputs": [],
   "source": [
    "df2['Стоимость витрины']=df2['Витрина']*df2['Цена 1 шт']"
   ]
  },
  {
   "cell_type": "code",
   "execution_count": 243,
   "metadata": {},
   "outputs": [],
   "source": [
    "df2['Сколько нужно взять без витрины']=df2['Расчетные продажи']-df2['Витрина']"
   ]
  },
  {
   "cell_type": "code",
   "execution_count": 256,
   "metadata": {},
   "outputs": [
    {
     "name": "stderr",
     "output_type": "stream",
     "text": [
      "/Users/anna/opt/anaconda3/envs/denis/lib/python3.7/site-packages/ipykernel_launcher.py:3: SettingWithCopyWarning: \n",
      "A value is trying to be set on a copy of a slice from a DataFrame\n",
      "\n",
      "See the caveats in the documentation: https://pandas.pydata.org/pandas-docs/stable/user_guide/indexing.html#returning-a-view-versus-a-copy\n",
      "  This is separate from the ipykernel package so we can avoid doing imports until\n"
     ]
    }
   ],
   "source": [
    "for i in range(len(df2)):\n",
    "    if df2['Сколько нужно взять без витрины'][i]<0:\n",
    "        df2['Сколько нужно взять без витрины'][i]=0\n",
    "    "
   ]
  },
  {
   "cell_type": "code",
   "execution_count": 265,
   "metadata": {},
   "outputs": [],
   "source": [
    "df2.to_excel('hu.xlsx')"
   ]
  },
  {
   "cell_type": "code",
   "execution_count": 258,
   "metadata": {},
   "outputs": [],
   "source": [
    "t10=0\n",
    "for i in range(len(df2)):\n",
    "    if df2['Сколько нужно взять без витрины'][i]>0:\n",
    "        t10+=df2['Стоимость итого'][i]"
   ]
  },
  {
   "cell_type": "code",
   "execution_count": 261,
   "metadata": {},
   "outputs": [],
   "source": [
    "otklonen=t10/sum_prog_strax"
   ]
  },
  {
   "cell_type": "code",
   "execution_count": 263,
   "metadata": {},
   "outputs": [
    {
     "data": {
      "text/plain": [
       "789810.3205829326"
      ]
     },
     "execution_count": 263,
     "metadata": {},
     "output_type": "execute_result"
    }
   ],
   "source": [
    "t10"
   ]
  },
  {
   "cell_type": "code",
   "execution_count": 262,
   "metadata": {},
   "outputs": [
    {
     "data": {
      "text/plain": [
       "0.43040130429470985"
      ]
     },
     "execution_count": 262,
     "metadata": {},
     "output_type": "execute_result"
    }
   ],
   "source": [
    "otklonen"
   ]
  },
  {
   "cell_type": "code",
   "execution_count": null,
   "metadata": {},
   "outputs": [],
   "source": [
    "dobor1=[]\n",
    "dobor_sum=[]\n",
    "for i in range(len(df2)):\n",
    "    try:\n",
    "        if vitrina_rozn[i]>=ras_prod[i]:\n",
    "            q=0\n",
    "        else:\n",
    "            q=math.ceil((ras_prod[i]-vitrina_rozn[i])/tt)\n",
    "\n",
    "        if zakaz_fin[i]<q:\n",
    "            fpo=zakaz_fin[i]\n",
    "        else:\n",
    "            if vitrina_rozn[i]>=ras_prod[i]:\n",
    "                ll=0\n",
    "            else:\n",
    "                ll=math.ceil((ras_prod[i]-vitrina_rozn[i])/tt)\n",
    "\n",
    "        dobor_sum.append(ll*stoim_rozn[i])\n",
    "        dobor1.apend(ll)        \n",
    "    except: \n",
    "        dobor1.append(0)\n",
    "        dobor_sum.append(0)"
   ]
  },
  {
   "cell_type": "code",
   "execution_count": 268,
   "metadata": {},
   "outputs": [],
   "source": [
    "dobor1=[]\n",
    "dobor_sum=[]\n",
    "for i in range(len(artic_rozn)):\n",
    "    try:\n",
    "        if vitrina_rozn[i]>=ras_prod[i]:\n",
    "            q=0\n",
    "        else:\n",
    "            q=math.ceil((ras_prod[i]-vitrina_rozn[i])/tt)\n",
    "\n",
    "        if zakaz_fin[i]<q:\n",
    "            fpo=zakaz_fin[i]\n",
    "        else:\n",
    "            if vitrina_rozn[i]>=ras_prod[i]:\n",
    "                ll=0\n",
    "            else:\n",
    "                ll=math.ceil((ras_prod[i]-vitrina_rozn[i])/tt)\n",
    "\n",
    "        dobor_sum.append(ll*stoim_rozn[i])\n",
    "        dobor1.apend(ll)        \n",
    "    except: \n",
    "        dobor1.append(0)\n",
    "        dobor_sum.append(0)"
   ]
  },
  {
   "cell_type": "code",
   "execution_count": 273,
   "metadata": {},
   "outputs": [],
   "source": [
    "itog=[]\n",
    "itog_kol=[]\n",
    "for i in range(len(artic_rozn)):\n",
    "    try:\n",
    "        it_kol=dobor1[i]+vitrina_rozn[i]\n",
    "        it=(dobor1[i]+vitrina_rozn[i])*stoim_rozn[i]\n",
    "        itog.append(it)\n",
    "        itog_kol.append(it_kol)\n",
    "    except:\n",
    "        itog.append(0)\n",
    "        itog_kol.append(0)"
   ]
  },
  {
   "cell_type": "code",
   "execution_count": 285,
   "metadata": {},
   "outputs": [],
   "source": [
    "dobor2=[]\n",
    "for i in range(len(artic_rozn)):\n",
    "    ret=0\n",
    "    if ((sum(itog)+ret+stoim_rozn[i])<(sum_prog_strax+sum(sum_vitr[1:]))) and (itog_kol[i]!=ras_prod[i]) and (itog_kol[i]!=vitrina_rozn[i]):\n",
    "        znach=1\n",
    "        ret+=stoim_rozn[i]\n",
    "    else:\n",
    "        znach=0\n",
    "    dobor2.append(znach)"
   ]
  },
  {
   "cell_type": "code",
   "execution_count": 290,
   "metadata": {},
   "outputs": [],
   "source": [
    "fin_st_fin=[]\n",
    "fin_fin=[]\n",
    "for i in range(len(artic_rozn)):\n",
    "    try:\n",
    "        poi=(dobor2[i]+itog_kol[i])/korobka_rozn[i]\n",
    "        if poi!=poi//1 and (dobor2[i]+itog_kol[i])!=0:\n",
    "            fin=math.ceil(poi)*korobka_rozn[i]\n",
    "            fin_st=fin*stoim_rozn[i]\n",
    "        else:\n",
    "            fin=dobor2[i]+itog_kol[i]\n",
    "            fin_st=fin*stoim_rozn[i]\n",
    "    except:\n",
    "        fin=0\n",
    "        fin_st=0\n",
    "    fin_fin.append(fin)\n",
    "    fin_st_fin.append(fin_st)"
   ]
  },
  {
   "cell_type": "code",
   "execution_count": 304,
   "metadata": {},
   "outputs": [],
   "source": [
    "status=[]\n",
    "for i in range(len(artic_rozn)):\n",
    "    try:\n",
    "        if fin_fin[i]>kolvo_infor[i] and kolvo_infor[i]>0:\n",
    "            stat='Частичное наличие на ИНФОР'\n",
    "        else:\n",
    "            if kolvo_infor[i]<=0:\n",
    "                stat='Нет на ИНФОРе'\n",
    "            else:\n",
    "                if fin_fin[i]<kolvo_infor[i]:\n",
    "                    stat='Полное наличие на ИНФОР'\n",
    "    except:\n",
    "        stat=''\n",
    "    status.append(stat)"
   ]
  },
  {
   "cell_type": "code",
   "execution_count": 306,
   "metadata": {},
   "outputs": [],
   "source": [
    "#формирование итоговой таблицы\n",
    "table=pd.DataFrame(list(zip(artic_rozn,fin_fin,fin_st_fin,status)))"
   ]
  },
  {
   "cell_type": "code",
   "execution_count": 307,
   "metadata": {},
   "outputs": [
    {
     "data": {
      "text/html": [
       "<div>\n",
       "<style scoped>\n",
       "    .dataframe tbody tr th:only-of-type {\n",
       "        vertical-align: middle;\n",
       "    }\n",
       "\n",
       "    .dataframe tbody tr th {\n",
       "        vertical-align: top;\n",
       "    }\n",
       "\n",
       "    .dataframe thead th {\n",
       "        text-align: right;\n",
       "    }\n",
       "</style>\n",
       "<table border=\"1\" class=\"dataframe\">\n",
       "  <thead>\n",
       "    <tr style=\"text-align: right;\">\n",
       "      <th></th>\n",
       "      <th>0</th>\n",
       "      <th>1</th>\n",
       "      <th>2</th>\n",
       "      <th>3</th>\n",
       "    </tr>\n",
       "  </thead>\n",
       "  <tbody>\n",
       "    <tr>\n",
       "      <th>0</th>\n",
       "      <td>Артикул</td>\n",
       "      <td>0.0</td>\n",
       "      <td>0.000000</td>\n",
       "      <td></td>\n",
       "    </tr>\n",
       "    <tr>\n",
       "      <th>1</th>\n",
       "      <td>ACK-384027</td>\n",
       "      <td>1.0</td>\n",
       "      <td>0.000000</td>\n",
       "      <td>Полное наличие на ИНФОР</td>\n",
       "    </tr>\n",
       "    <tr>\n",
       "      <th>2</th>\n",
       "      <td>ALT-5002F-RU</td>\n",
       "      <td>1.0</td>\n",
       "      <td>6956.666667</td>\n",
       "      <td>Полное наличие на ИНФОР</td>\n",
       "    </tr>\n",
       "    <tr>\n",
       "      <th>3</th>\n",
       "      <td>A8024</td>\n",
       "      <td>1.0</td>\n",
       "      <td>0.000000</td>\n",
       "      <td>Полное наличие на ИНФОР</td>\n",
       "    </tr>\n",
       "    <tr>\n",
       "      <th>4</th>\n",
       "      <td>PAW-04048-34</td>\n",
       "      <td>1.0</td>\n",
       "      <td>2461.428571</td>\n",
       "      <td>Полное наличие на ИНФОР</td>\n",
       "    </tr>\n",
       "    <tr>\n",
       "      <th>5</th>\n",
       "      <td>ALH-11102-P</td>\n",
       "      <td>1.0</td>\n",
       "      <td>395.857143</td>\n",
       "      <td>Полное наличие на ИНФОР</td>\n",
       "    </tr>\n",
       "    <tr>\n",
       "      <th>6</th>\n",
       "      <td>N3010</td>\n",
       "      <td>1.0</td>\n",
       "      <td>105.250000</td>\n",
       "      <td>Полное наличие на ИНФОР</td>\n",
       "    </tr>\n",
       "    <tr>\n",
       "      <th>7</th>\n",
       "      <td>AWT-ERSK03</td>\n",
       "      <td>1.0</td>\n",
       "      <td>5590.000000</td>\n",
       "      <td>Нет на ИНФОРе</td>\n",
       "    </tr>\n",
       "    <tr>\n",
       "      <th>8</th>\n",
       "      <td>AEB-H403</td>\n",
       "      <td>1.0</td>\n",
       "      <td>280.000000</td>\n",
       "      <td>Нет на ИНФОРе</td>\n",
       "    </tr>\n",
       "    <tr>\n",
       "      <th>9</th>\n",
       "      <td>AWT-ERS21</td>\n",
       "      <td>2.0</td>\n",
       "      <td>965.000000</td>\n",
       "      <td>Нет на ИНФОРе</td>\n",
       "    </tr>\n",
       "    <tr>\n",
       "      <th>10</th>\n",
       "      <td>ACK-384003</td>\n",
       "      <td>1.0</td>\n",
       "      <td>0.000000</td>\n",
       "      <td>Нет на ИНФОРе</td>\n",
       "    </tr>\n",
       "    <tr>\n",
       "      <th>11</th>\n",
       "      <td>ATA-2034</td>\n",
       "      <td>1.0</td>\n",
       "      <td>3450.000000</td>\n",
       "      <td>Нет на ИНФОРе</td>\n",
       "    </tr>\n",
       "    <tr>\n",
       "      <th>12</th>\n",
       "      <td>ATS-4092BA</td>\n",
       "      <td>1.0</td>\n",
       "      <td>0.000000</td>\n",
       "      <td>Нет на ИНФОРе</td>\n",
       "    </tr>\n",
       "    <tr>\n",
       "      <th>13</th>\n",
       "      <td>ATK-8063</td>\n",
       "      <td>2.0</td>\n",
       "      <td>784.000000</td>\n",
       "      <td>Нет на ИНФОРе</td>\n",
       "    </tr>\n",
       "    <tr>\n",
       "      <th>14</th>\n",
       "      <td>ATK-8064</td>\n",
       "      <td>2.0</td>\n",
       "      <td>794.000000</td>\n",
       "      <td>Нет на ИНФОРе</td>\n",
       "    </tr>\n",
       "    <tr>\n",
       "      <th>15</th>\n",
       "      <td>ASD-540600</td>\n",
       "      <td>2.0</td>\n",
       "      <td>430.000000</td>\n",
       "      <td>Нет на ИНФОРе</td>\n",
       "    </tr>\n",
       "    <tr>\n",
       "      <th>16</th>\n",
       "      <td>ASD-540801</td>\n",
       "      <td>2.0</td>\n",
       "      <td>542.000000</td>\n",
       "      <td>Нет на ИНФОРе</td>\n",
       "    </tr>\n",
       "    <tr>\n",
       "      <th>17</th>\n",
       "      <td>ASD-541002</td>\n",
       "      <td>2.0</td>\n",
       "      <td>786.500000</td>\n",
       "      <td>Нет на ИНФОРе</td>\n",
       "    </tr>\n",
       "    <tr>\n",
       "      <th>18</th>\n",
       "      <td>ASD-541253</td>\n",
       "      <td>2.0</td>\n",
       "      <td>950.000000</td>\n",
       "      <td>Нет на ИНФОРе</td>\n",
       "    </tr>\n",
       "    <tr>\n",
       "      <th>19</th>\n",
       "      <td>ASD-541502</td>\n",
       "      <td>2.0</td>\n",
       "      <td>0.000000</td>\n",
       "      <td>Нет на ИНФОРе</td>\n",
       "    </tr>\n",
       "    <tr>\n",
       "      <th>20</th>\n",
       "      <td>ATM-0055</td>\n",
       "      <td>1.0</td>\n",
       "      <td>1283.000000</td>\n",
       "      <td>Нет на ИНФОРе</td>\n",
       "    </tr>\n",
       "    <tr>\n",
       "      <th>21</th>\n",
       "      <td>ATR-4001</td>\n",
       "      <td>2.0</td>\n",
       "      <td>2479.428571</td>\n",
       "      <td>Нет на ИНФОРе</td>\n",
       "    </tr>\n",
       "    <tr>\n",
       "      <th>22</th>\n",
       "      <td>ATE-6001</td>\n",
       "      <td>1.0</td>\n",
       "      <td>1249.333333</td>\n",
       "      <td>Нет на ИНФОРе</td>\n",
       "    </tr>\n",
       "    <tr>\n",
       "      <th>23</th>\n",
       "      <td>ATA-4203</td>\n",
       "      <td>1.0</td>\n",
       "      <td>0.000000</td>\n",
       "      <td>Нет на ИНФОРе</td>\n",
       "    </tr>\n",
       "    <tr>\n",
       "      <th>24</th>\n",
       "      <td>ATM-0020</td>\n",
       "      <td>1.0</td>\n",
       "      <td>1171.400000</td>\n",
       "      <td>Нет на ИНФОРе</td>\n",
       "    </tr>\n",
       "    <tr>\n",
       "      <th>25</th>\n",
       "      <td>ATS-4124</td>\n",
       "      <td>1.0</td>\n",
       "      <td>0.000000</td>\n",
       "      <td>Нет на ИНФОРе</td>\n",
       "    </tr>\n",
       "    <tr>\n",
       "      <th>26</th>\n",
       "      <td>ATR-3061</td>\n",
       "      <td>2.0</td>\n",
       "      <td>1116.000000</td>\n",
       "      <td>Нет на ИНФОРе</td>\n",
       "    </tr>\n",
       "    <tr>\n",
       "      <th>27</th>\n",
       "      <td>ATR-3065</td>\n",
       "      <td>2.0</td>\n",
       "      <td>0.000000</td>\n",
       "      <td>Нет на ИНФОРе</td>\n",
       "    </tr>\n",
       "  </tbody>\n",
       "</table>\n",
       "</div>"
      ],
      "text/plain": [
       "               0    1            2                        3\n",
       "0        Артикул  0.0     0.000000                         \n",
       "1     ACK-384027  1.0     0.000000  Полное наличие на ИНФОР\n",
       "2   ALT-5002F-RU  1.0  6956.666667  Полное наличие на ИНФОР\n",
       "3          A8024  1.0     0.000000  Полное наличие на ИНФОР\n",
       "4   PAW-04048-34  1.0  2461.428571  Полное наличие на ИНФОР\n",
       "5    ALH-11102-P  1.0   395.857143  Полное наличие на ИНФОР\n",
       "6          N3010  1.0   105.250000  Полное наличие на ИНФОР\n",
       "7     AWT-ERSK03  1.0  5590.000000            Нет на ИНФОРе\n",
       "8       AEB-H403  1.0   280.000000            Нет на ИНФОРе\n",
       "9      AWT-ERS21  2.0   965.000000            Нет на ИНФОРе\n",
       "10    ACK-384003  1.0     0.000000            Нет на ИНФОРе\n",
       "11      ATA-2034  1.0  3450.000000            Нет на ИНФОРе\n",
       "12    ATS-4092BA  1.0     0.000000            Нет на ИНФОРе\n",
       "13      ATK-8063  2.0   784.000000            Нет на ИНФОРе\n",
       "14      ATK-8064  2.0   794.000000            Нет на ИНФОРе\n",
       "15    ASD-540600  2.0   430.000000            Нет на ИНФОРе\n",
       "16    ASD-540801  2.0   542.000000            Нет на ИНФОРе\n",
       "17    ASD-541002  2.0   786.500000            Нет на ИНФОРе\n",
       "18    ASD-541253  2.0   950.000000            Нет на ИНФОРе\n",
       "19    ASD-541502  2.0     0.000000            Нет на ИНФОРе\n",
       "20      ATM-0055  1.0  1283.000000            Нет на ИНФОРе\n",
       "21      ATR-4001  2.0  2479.428571            Нет на ИНФОРе\n",
       "22      ATE-6001  1.0  1249.333333            Нет на ИНФОРе\n",
       "23      ATA-4203  1.0     0.000000            Нет на ИНФОРе\n",
       "24      ATM-0020  1.0  1171.400000            Нет на ИНФОРе\n",
       "25      ATS-4124  1.0     0.000000            Нет на ИНФОРе\n",
       "26      ATR-3061  2.0  1116.000000            Нет на ИНФОРе\n",
       "27      ATR-3065  2.0     0.000000            Нет на ИНФОРе"
      ]
     },
     "execution_count": 307,
     "metadata": {},
     "output_type": "execute_result"
    }
   ],
   "source": [
    "table"
   ]
  }
 ],
 "metadata": {
  "kernelspec": {
   "display_name": "Python 3",
   "language": "python",
   "name": "python3"
  },
  "language_info": {
   "codemirror_mode": {
    "name": "ipython",
    "version": 3
   },
   "file_extension": ".py",
   "mimetype": "text/x-python",
   "name": "python",
   "nbconvert_exporter": "python",
   "pygments_lexer": "ipython3",
   "version": "3.7.7"
  }
 },
 "nbformat": 4,
 "nbformat_minor": 4
}

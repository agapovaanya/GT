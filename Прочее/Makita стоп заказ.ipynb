{
 "cells": [
  {
   "cell_type": "code",
   "execution_count": null,
   "metadata": {},
   "outputs": [],
   "source": [
    "import requests\n",
    "import re\n",
    "import urllib \n",
    "from bs4 import BeautifulSoup\n",
    "import string\n",
    "import pandas as pd\n",
    "import numpy as np\n",
    "import datetime\n",
    "import _datetime\n",
    "import xlrd\n",
    "import time\n",
    "import urllib.request\n",
    "from selenium import webdriver\n"
   ]
  },
  {
   "cell_type": "code",
   "execution_count": null,
   "metadata": {},
   "outputs": [],
   "source": [
    "current_datetime1 = datetime.datetime.now()\n",
    "urlpage = 'https://stock.litopt.ru/' \n",
    "driver = webdriver.Chrome(executable_path = 'C:/Users/HYPERPC/Downloads/chromedriver')\n",
    "driver.get(urlpage)"
   ]
  },
  {
   "cell_type": "code",
   "execution_count": null,
   "metadata": {},
   "outputs": [],
   "source": [
    "driver.find_element_by_id(\"details-button\").click()"
   ]
  },
  {
   "cell_type": "code",
   "execution_count": null,
   "metadata": {},
   "outputs": [],
   "source": [
    "driver.find_element_by_id(\"proceed-link\").click()"
   ]
  },
  {
   "cell_type": "code",
   "execution_count": null,
   "metadata": {},
   "outputs": [],
   "source": [
    "pr=driver.find_elements_by_xpath(\"//tr[contains(concat(' ', normalize-space(@bgcolor), ' '), '#FFFFFF')]\")"
   ]
  },
  {
   "cell_type": "code",
   "execution_count": null,
   "metadata": {},
   "outputs": [],
   "source": [
    "a=[]\n",
    "b=[]\n",
    "c=[]\n",
    "d=[]\n",
    "e=[]\n",
    "f=[]"
   ]
  },
  {
   "cell_type": "code",
   "execution_count": null,
   "metadata": {},
   "outputs": [],
   "source": [
    "for j in range(len(pr)):\n",
    "    #print(j)\n",
    "    tyu=pr[j].find_elements_by_xpath('td')\n",
    "    a.append(tyu[0].text)\n",
    "    b.append(tyu[1].text)\n",
    "    c.append(tyu[2].text)\n",
    "    d.append(tyu[3].text)\n",
    "    e.append(tyu[4].text)\n",
    "    f.append(tyu[5].text)"
   ]
  },
  {
   "cell_type": "code",
   "execution_count": null,
   "metadata": {},
   "outputs": [],
   "source": [
    "table_price = pd.DataFrame(list(zip(a,b,c,d,e,f))) \n",
    "\n"
   ]
  },
  {
   "cell_type": "code",
   "execution_count": null,
   "metadata": {},
   "outputs": [],
   "source": [
    "cc='C:/Users/HYPERPC/Downloads/элитпоставка.xlsx'\n",
    "xl = pd.ExcelFile(cc)\n",
    "df = xl.parse('TDSheet')"
   ]
  },
  {
   "cell_type": "code",
   "execution_count": null,
   "metadata": {},
   "outputs": [],
   "source": [
    "add=[]\n",
    "delete=[]"
   ]
  },
  {
   "cell_type": "code",
   "execution_count": null,
   "metadata": {},
   "outputs": [],
   "source": [
    "for i in range(len(df)):\n",
    "    if ((df['Артикул'][i] in d) and (df['Больше не поставляется'][i]=='Да')):\n",
    "        add.append(df['Артикул'][i])\n",
    "    else:\n",
    "        if ((df['Артикул'][i] not in d) and (df['Больше не поставляется'][i]=='Нет')):\n",
    "            delete.append(df['Артикул'][i])"
   ]
  },
  {
   "cell_type": "code",
   "execution_count": null,
   "metadata": {},
   "outputs": [],
   "source": [
    "month=datetime.datetime.now().month\n",
    "year=datetime.datetime.now().year\n",
    "day=datetime.datetime.now().day"
   ]
  },
  {
   "cell_type": "code",
   "execution_count": null,
   "metadata": {},
   "outputs": [],
   "source": [
    "data=str(day)+'_'+str(month)+'_'+str(year)"
   ]
  },
  {
   "cell_type": "code",
   "execution_count": null,
   "metadata": {},
   "outputs": [],
   "source": [
    "table_price.to_excel('Прайс '+data+'.xlsx')"
   ]
  },
  {
   "cell_type": "code",
   "execution_count": null,
   "metadata": {},
   "outputs": [],
   "source": [
    "table = pd.DataFrame(list(zip(delete)), columns =['Добавить в стоп заказ']) \n",
    "\n",
    "table.to_excel('Добавить в стоп заказ '+data+'.xlsx')"
   ]
  },
  {
   "cell_type": "code",
   "execution_count": null,
   "metadata": {},
   "outputs": [],
   "source": [
    "table = pd.DataFrame(list(zip(add)), columns =['Убрать из стоп заказ']) \n",
    "\n",
    "table.to_excel('Убрать из стоп заказа '+data+'.xlsx')\n"
   ]
  },
  {
   "cell_type": "code",
   "execution_count": null,
   "metadata": {},
   "outputs": [],
   "source": [
    "import smtplib\n",
    "from email.mime.multipart import MIMEMultipart\n",
    "from email.mime.text import MIMEText\n",
    "from email.mime.base import MIMEBase\n",
    "from email import encoders\n",
    "\n",
    "fromaddr = \"agapova.a@garagetools.ru\"\n",
    "#toaddr = \"garaeva.m@garagetools.ru\"\n",
    "#toaddr = \"agapova.a@garagetools.ru\"\n",
    "toaddr = \"maruschenko.a@garagetools.ru\"\n",
    "\n",
    "msg = MIMEMultipart()\n",
    "\n",
    "msg['From'] = fromaddr\n",
    "msg['To'] = toaddr\n",
    "msg['Subject'] = str(\"Makita_\"+data)\n",
    "\n",
    "body = \"\"\n",
    "\n",
    "msg.attach(MIMEText(body, 'plain'))\n",
    "\n",
    "filename = \"Ubrat_iz_stop_zakaza.xlsx\"\n",
    "#filename = \"Уб.xlsx\"\n",
    "attachment = open(\"C:/Users/HYPERPC/Downloads/Telegram Desktop/\"+\"Убрать из стоп заказа \"+data+\".xlsx\",'rb')\n",
    "\n",
    "part = MIMEBase('application', 'octet-stream')\n",
    "part.set_payload((attachment).read())\n",
    "encoders.encode_base64(part)\n",
    "part.add_header('Content-Disposition', \"attachment; filename= %s\" % filename)\n",
    "\n",
    "msg.attach(part)\n",
    "\n",
    "filename = \"Dobavit_v_stop_zakaz.xlsx\"\n",
    "attachment = open(\"C:/Users/HYPERPC/Downloads/Telegram Desktop/\"+\"Добавить в стоп заказ \"+data+\".xlsx\",'rb')\n",
    "\n",
    "part = MIMEBase('application', 'octet-stream')\n",
    "part.set_payload((attachment).read())\n",
    "encoders.encode_base64(part)\n",
    "part.add_header('Content-Disposition', \"attachment; filename= %s\" % filename)\n",
    "\n",
    "msg.attach(part)\n",
    "\n",
    "filename = \"Price.xlsx\"\n",
    "attachment = open(\"C:/Users/HYPERPC/Downloads/Telegram Desktop/\"+\"Прайс \"+data+\".xlsx\",'rb')\n",
    "\n",
    "part = MIMEBase('application', 'octet-stream')\n",
    "part.set_payload((attachment).read())\n",
    "encoders.encode_base64(part)\n",
    "part.add_header('Content-Disposition', \"attachment; filename= %s\" % filename)\n",
    "\n",
    "msg.attach(part)\n",
    "\n",
    "\n",
    "\n",
    "server = smtplib.SMTP('smtp.gmail.com', 587)\n",
    "server.starttls()\n",
    "server.login(fromaddr, \"6465667Aa\")\n",
    "text = msg.as_string()\n",
    "server.sendmail(fromaddr, toaddr, text)\n",
    "server.quit()"
   ]
  },
  {
   "cell_type": "code",
   "execution_count": null,
   "metadata": {},
   "outputs": [],
   "source": []
  }
 ],
 "metadata": {
  "kernelspec": {
   "display_name": "Python 3",
   "language": "python",
   "name": "python3"
  },
  "language_info": {
   "codemirror_mode": {
    "name": "ipython",
    "version": 3
   },
   "file_extension": ".py",
   "mimetype": "text/x-python",
   "name": "python",
   "nbconvert_exporter": "python",
   "pygments_lexer": "ipython3",
   "version": "3.7.6"
  }
 },
 "nbformat": 4,
 "nbformat_minor": 4
}

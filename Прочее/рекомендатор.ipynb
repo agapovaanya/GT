{
 "cells": [
  {
   "cell_type": "code",
   "execution_count": 2,
   "metadata": {},
   "outputs": [],
   "source": [
    "import pandas as pd\n",
    "import xlrd\n",
    "import numpy as np\n",
    "\n"
   ]
  },
  {
   "cell_type": "code",
   "execution_count": 16,
   "metadata": {},
   "outputs": [],
   "source": [
    "price_gran=1000\n",
    "top=15"
   ]
  },
  {
   "cell_type": "code",
   "execution_count": 20,
   "metadata": {},
   "outputs": [],
   "source": [
    "#cc='/Users/anna/Downloads/ядро.xlsx'\n",
    "cc='/Users/anna/Downloads/клиенты нн.xlsx'\n",
    "xl = pd.ExcelFile(cc)\n",
    "df_klient = xl.parse('TDSheet')"
   ]
  },
  {
   "cell_type": "code",
   "execution_count": 21,
   "metadata": {},
   "outputs": [],
   "source": [
    "#cc='/Users/anna/Downloads/ядро.xlsx'\n",
    "cc='/Users/anna/Downloads/продажи нн_2707.xlsx'\n",
    "xl = pd.ExcelFile(cc)\n",
    "df1 = xl.parse('TDSheet')"
   ]
  },
  {
   "cell_type": "code",
   "execution_count": 4,
   "metadata": {},
   "outputs": [],
   "source": [
    "#cc='/Users/anna/Downloads/ядро.xlsx'\n",
    "cc='/Users/anna/Downloads/продажи отдела.xlsx'\n",
    "xl = pd.ExcelFile(cc)\n",
    "df_otdel = xl.parse('TDSheet')"
   ]
  },
  {
   "cell_type": "code",
   "execution_count": 6,
   "metadata": {},
   "outputs": [],
   "source": [
    "df_otdel['Итог']=1"
   ]
  },
  {
   "cell_type": "code",
   "execution_count": 9,
   "metadata": {},
   "outputs": [
    {
     "name": "stderr",
     "output_type": "stream",
     "text": [
      "/Users/anna/opt/anaconda3/envs/denis/lib/python3.7/site-packages/ipykernel_launcher.py:3: SettingWithCopyWarning: \n",
      "A value is trying to be set on a copy of a slice from a DataFrame\n",
      "\n",
      "See the caveats in the documentation: https://pandas.pydata.org/pandas-docs/stable/user_guide/indexing.html#returning-a-view-versus-a-copy\n",
      "  This is separate from the ipykernel package so we can avoid doing imports until\n",
      "/Users/anna/opt/anaconda3/envs/denis/lib/python3.7/site-packages/ipykernel_launcher.py:5: SettingWithCopyWarning: \n",
      "A value is trying to be set on a copy of a slice from a DataFrame\n",
      "\n",
      "See the caveats in the documentation: https://pandas.pydata.org/pandas-docs/stable/user_guide/indexing.html#returning-a-view-versus-a-copy\n",
      "  \"\"\"\n"
     ]
    }
   ],
   "source": [
    "for i in range(len(df_otdel)):\n",
    "    if df_otdel['Цена'][i]>price_gran:\n",
    "        df_otdel['Итог'][i]=df_otdel['Итого шт'][i]\n",
    "    else:\n",
    "        df_otdel['Итог'][i]=0"
   ]
  },
  {
   "cell_type": "code",
   "execution_count": 17,
   "metadata": {},
   "outputs": [],
   "source": [
    "top_tovar=df_otdel.sort_values(by=['Итог'], ascending=False)['Код \"Инфор\"'][:top]"
   ]
  },
  {
   "cell_type": "code",
   "execution_count": 103,
   "metadata": {},
   "outputs": [],
   "source": [
    "category_top_tovar=df_otdel.sort_values(by=['Итог'], ascending=False)['Категория товара'][:top]"
   ]
  },
  {
   "cell_type": "code",
   "execution_count": 107,
   "metadata": {},
   "outputs": [],
   "source": [
    "category_top_tovar=list(category_top_tovar)"
   ]
  },
  {
   "cell_type": "code",
   "execution_count": 46,
   "metadata": {},
   "outputs": [],
   "source": [
    "top_tovar=list(top_tovar)"
   ]
  },
  {
   "cell_type": "code",
   "execution_count": 112,
   "metadata": {},
   "outputs": [],
   "source": [
    "cli=[]\n",
    "tovar=[]\n",
    "category_tovar=[]\n",
    "for i in range(len(df_klient)):\n",
    "    for g in range(len(top_tovar)):\n",
    "        if (int(str(top_tovar[g])+str(df_klient['Код'][i])) in list(df1['Итог']))!=True:\n",
    "            cli.append(df_klient['Код'][i])\n",
    "            tovar.append(top_tovar[g])\n",
    "            category_tovar.append(category_top_tovar[g])"
   ]
  },
  {
   "cell_type": "code",
   "execution_count": 26,
   "metadata": {},
   "outputs": [],
   "source": [
    "df1['Итог']=1"
   ]
  },
  {
   "cell_type": "code",
   "execution_count": 54,
   "metadata": {},
   "outputs": [
    {
     "name": "stderr",
     "output_type": "stream",
     "text": [
      "/Users/anna/opt/anaconda3/envs/denis/lib/python3.7/site-packages/ipykernel_launcher.py:2: SettingWithCopyWarning: \n",
      "A value is trying to be set on a copy of a slice from a DataFrame\n",
      "\n",
      "See the caveats in the documentation: https://pandas.pydata.org/pandas-docs/stable/user_guide/indexing.html#returning-a-view-versus-a-copy\n",
      "  \n"
     ]
    }
   ],
   "source": [
    "for h in range(len(df1)):\n",
    "    df1['Итог'][h]=str(df1['Код \"Инфор\"'][h])+str(df1['КлиентКод'][h])"
   ]
  },
  {
   "cell_type": "code",
   "execution_count": 109,
   "metadata": {},
   "outputs": [
    {
     "name": "stderr",
     "output_type": "stream",
     "text": [
      "/Users/anna/opt/anaconda3/envs/denis/lib/python3.7/site-packages/ipykernel_launcher.py:3: SettingWithCopyWarning: \n",
      "A value is trying to be set on a copy of a slice from a DataFrame\n",
      "\n",
      "See the caveats in the documentation: https://pandas.pydata.org/pandas-docs/stable/user_guide/indexing.html#returning-a-view-versus-a-copy\n",
      "  This is separate from the ipykernel package so we can avoid doing imports until\n",
      "/Users/anna/opt/anaconda3/envs/denis/lib/python3.7/site-packages/pandas/core/indexing.py:671: SettingWithCopyWarning: \n",
      "A value is trying to be set on a copy of a slice from a DataFrame\n",
      "\n",
      "See the caveats in the documentation: https://pandas.pydata.org/pandas-docs/stable/user_guide/indexing.html#returning-a-view-versus-a-copy\n",
      "  self._setitem_with_indexer(indexer, value)\n"
     ]
    }
   ],
   "source": [
    "df1['Итог категория']=2\n",
    "for h in range(len(df1)):\n",
    "    df1['Итог категория'][h]=str(df1['Категория товара'][h])+str(df1['КлиентКод'][h])"
   ]
  },
  {
   "cell_type": "code",
   "execution_count": 111,
   "metadata": {},
   "outputs": [
    {
     "data": {
      "text/plain": [
       "array(['Запасные части', 'Оборудование мастерских и СТО',\n",
       "       'Осветительное оборудование', 'Пневмоинструмент',\n",
       "       'Ручной инструмент', 'Специальный инструмент'], dtype='<U29')"
      ]
     },
     "execution_count": 111,
     "metadata": {},
     "output_type": "execute_result"
    }
   ],
   "source": [
    "np.unique(category_top_tovar)"
   ]
  },
  {
   "cell_type": "code",
   "execution_count": null,
   "metadata": {},
   "outputs": [],
   "source": [
    "cli \n",
    "tovar\n",
    "category_tovar"
   ]
  },
  {
   "cell_type": "code",
   "execution_count": 113,
   "metadata": {},
   "outputs": [],
   "source": [
    "df1_obs=pd.DataFrame(list(zip(cli,tovar,category_tovar)))"
   ]
  },
  {
   "cell_type": "code",
   "execution_count": 115,
   "metadata": {},
   "outputs": [],
   "source": [
    "df1_obs['3']=3"
   ]
  },
  {
   "cell_type": "code",
   "execution_count": 152,
   "metadata": {},
   "outputs": [
    {
     "name": "stderr",
     "output_type": "stream",
     "text": [
      "/Users/anna/opt/anaconda3/envs/denis/lib/python3.7/site-packages/ipykernel_launcher.py:2: SettingWithCopyWarning: \n",
      "A value is trying to be set on a copy of a slice from a DataFrame\n",
      "\n",
      "See the caveats in the documentation: https://pandas.pydata.org/pandas-docs/stable/user_guide/indexing.html#returning-a-view-versus-a-copy\n",
      "  \n"
     ]
    }
   ],
   "source": [
    "for h in range(len(df1_obs)):\n",
    "    df1_obs['3'][h]=df1_obs[2][h]+str(df1_obs[0][h])"
   ]
  },
  {
   "cell_type": "code",
   "execution_count": 158,
   "metadata": {},
   "outputs": [],
   "source": [
    "client_itog=[]\n",
    "nomenkl_itog=[]\n",
    "category_itog=[]\n",
    "for u in range(len(df1_obs)):\n",
    "    if (df1_obs['3'][u] in list(df1['Итог категория']))!=True:\n",
    "        client_itog.append(df1_obs[0][u])\n",
    "        nomenkl_itog.append(df1_obs[1][u])\n",
    "        category_itog.append(df1_obs[2][u])"
   ]
  },
  {
   "cell_type": "code",
   "execution_count": 159,
   "metadata": {},
   "outputs": [],
   "source": [
    "df1_final_f=pd.DataFrame(list(zip(client_itog,nomenkl_itog,category_itog)))"
   ]
  },
  {
   "cell_type": "code",
   "execution_count": 160,
   "metadata": {},
   "outputs": [],
   "source": [
    "df1_final_f.to_excel('итог_рекомендации.xlsx')"
   ]
  },
  {
   "cell_type": "code",
   "execution_count": 140,
   "metadata": {},
   "outputs": [],
   "source": [
    "df1_final=pd.DataFrame(list(zip(cli,tovar,category_tovar)))"
   ]
  },
  {
   "cell_type": "code",
   "execution_count": 141,
   "metadata": {},
   "outputs": [],
   "source": [
    "df1_finalc"
   ]
  },
  {
   "cell_type": "code",
   "execution_count": 100,
   "metadata": {},
   "outputs": [],
   "source": [
    "top_tovar_df=pd.DataFrame(list(zip(top_tovar)))"
   ]
  },
  {
   "cell_type": "code",
   "execution_count": 101,
   "metadata": {},
   "outputs": [],
   "source": [
    "top_tovar_df.to_excel('топ товар.xlsx')"
   ]
  }
 ],
 "metadata": {
  "kernelspec": {
   "display_name": "Python 3",
   "language": "python",
   "name": "python3"
  },
  "language_info": {
   "codemirror_mode": {
    "name": "ipython",
    "version": 3
   },
   "file_extension": ".py",
   "mimetype": "text/x-python",
   "name": "python",
   "nbconvert_exporter": "python",
   "pygments_lexer": "ipython3",
   "version": "3.7.7"
  }
 },
 "nbformat": 4,
 "nbformat_minor": 4
}

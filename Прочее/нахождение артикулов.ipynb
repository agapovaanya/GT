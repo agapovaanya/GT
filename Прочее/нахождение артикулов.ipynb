{
 "cells": [
  {
   "cell_type": "code",
   "execution_count": null,
   "metadata": {},
   "outputs": [],
   "source": [
    "import pandas as pd\n",
    "import xlrd\n",
    "import numpy as np\n"
   ]
  },
  {
   "cell_type": "code",
   "execution_count": null,
   "metadata": {},
   "outputs": [],
   "source": [
    "cc='/Users/anna/Downloads/name.xlsx'\n",
    "xl = pd.ExcelFile(cc)\n",
    "df1 = xl.parse('Лист1')"
   ]
  },
  {
   "cell_type": "code",
   "execution_count": null,
   "metadata": {},
   "outputs": [],
   "source": [
    "cc='/Users/anna/Downloads/article.xlsx'\n",
    "xl = pd.ExcelFile(cc)\n",
    "df2 = xl.parse('Лист1')"
   ]
  },
  {
   "cell_type": "code",
   "execution_count": null,
   "metadata": {},
   "outputs": [],
   "source": [
    "names=[]\n",
    "articles=[]\n",
    "codes=[]"
   ]
  },
  {
   "cell_type": "code",
   "execution_count": null,
   "metadata": {},
   "outputs": [],
   "source": [
    "for j in range(len(df2['Артикул'])):\n",
    "    print(j)\n",
    "    for i in range(len(df1['Артикул'])):\n",
    "        if (df2['Артикул'][j] in df1['Наименование товара'][i])==True:\n",
    "            names.append(df1['Наименование товара'][i])\n",
    "            articles.append(df2['Артикул'][j])\n",
    "            codes.append(df1['Артикул'][i])"
   ]
  },
  {
   "cell_type": "code",
   "execution_count": null,
   "metadata": {},
   "outputs": [],
   "source": [
    "table = pd.DataFrame(list(zip(names, articles, codes)))"
   ]
  },
  {
   "cell_type": "code",
   "execution_count": null,
   "metadata": {},
   "outputs": [],
   "source": [
    "table.to_excel('совпаде арт.xlsx')"
   ]
  }
 ],
 "metadata": {
  "kernelspec": {
   "display_name": "Python 3",
   "language": "python",
   "name": "python3"
  },
  "language_info": {
   "codemirror_mode": {
    "name": "ipython",
    "version": 3
   },
   "file_extension": ".py",
   "mimetype": "text/x-python",
   "name": "python",
   "nbconvert_exporter": "python",
   "pygments_lexer": "ipython3",
   "version": "3.7.7"
  }
 },
 "nbformat": 4,
 "nbformat_minor": 4
}
